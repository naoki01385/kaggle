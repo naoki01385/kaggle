{
 "cells": [
  {
   "cell_type": "code",
   "execution_count": 8,
   "metadata": {
    "_cell_guid": "b1076dfc-b9ad-4769-8c92-a6c4dae69d19",
    "_uuid": "8f2839f25d086af736a60e9eeb907d3b93b6e0e5",
    "executionInfo": {
     "elapsed": 342,
     "status": "ok",
     "timestamp": 1634570892755,
     "user": {
      "displayName": "Nao S",
      "photoUrl": "https://lh3.googleusercontent.com/a/default-user=s64",
      "userId": "18027365817574858301"
     },
     "user_tz": -540
    },
    "id": "r06_FjI_wW3o",
    "tags": []
   },
   "outputs": [],
   "source": [
    "# This Python 3 environment comes with many helpful analytics libraries installed\n",
    "# It is defined by the kaggle/python Docker image: https://github.com/kaggle/docker-python\n",
    "# For example, here's several helpful packages to load\n",
    "\n",
    "import numpy as np # linear algebra\n",
    "import pandas as pd # data processing, CSV file I/O (e.g. pd.read_csv)\n",
    "import random\n",
    "np.random.seed(1234)\n",
    "random.seed(1234)\n",
    "%matplotlib inline\n",
    "import matplotlib.pyplot as plt\n",
    "plt.style.use('ggplot')\n",
    "import seaborn as sns\n",
    "import lightgbm as lgb\n",
    "from sklearn.preprocessing import LabelEncoder\n",
    "from sklearn.model_selection import train_test_split\n",
    "from sklearn.model_selection import KFold\n",
    "from sklearn.metrics import accuracy_score\n",
    "# Input data files are available in the read-only \"../input/\" directory\n",
    "# For example, running this (by clicking run or pressing Shift+Enter) will list all files under the input directory\n",
    "\n",
    "import os\n",
    "for dirname, _, filenames in os.walk('/kaggle/input'):\n",
    "    for filename in filenames:\n",
    "        print(os.path.join(dirname, filename))\n",
    "\n",
    "# You can write up to 20GB to the current directory (/kaggle/working/) that gets preserved as output when you create a version using \"Save & Run All\" \n",
    "# You can also write temporary files to /kaggle/temp/, but they won't be saved outside of the current session"
   ]
  },
  {
   "cell_type": "code",
   "execution_count": 9,
   "metadata": {
    "colab": {
     "base_uri": "https://localhost:8080/"
    },
    "executionInfo": {
     "elapsed": 458,
     "status": "ok",
     "timestamp": 1634570893467,
     "user": {
      "displayName": "Nao S",
      "photoUrl": "https://lh3.googleusercontent.com/a/default-user=s64",
      "userId": "18027365817574858301"
     },
     "user_tz": -540
    },
    "id": "1TAGX8LswW3s",
    "outputId": "b9850fb1-0086-4cd1-a8a7-d9efd2ec2294"
   },
   "outputs": [
    {
     "name": "stdout",
     "output_type": "stream",
     "text": [
      "/content\n"
     ]
    }
   ],
   "source": [
    "!pwd"
   ]
  },
  {
   "cell_type": "code",
   "execution_count": 10,
   "metadata": {
    "executionInfo": {
     "elapsed": 843,
     "status": "ok",
     "timestamp": 1634570894299,
     "user": {
      "displayName": "Nao S",
      "photoUrl": "https://lh3.googleusercontent.com/a/default-user=s64",
      "userId": "18027365817574858301"
     },
     "user_tz": -540
    },
    "id": "seVVg0YJwW3t"
   },
   "outputs": [],
   "source": [
    "train_df=pd.read_csv('/content/drive/MyDrive/titanic_com/data/train.csv')\n",
    "test_df=pd.read_csv('/content/drive/MyDrive/titanic_com/data/test.csv')\n",
    "submission=pd.read_csv('/content/drive/MyDrive/titanic_com/data/gender_submission.csv')"
   ]
  },
  {
   "cell_type": "code",
   "execution_count": 11,
   "metadata": {
    "colab": {
     "base_uri": "https://localhost:8080/"
    },
    "executionInfo": {
     "elapsed": 28,
     "status": "ok",
     "timestamp": 1634570894301,
     "user": {
      "displayName": "Nao S",
      "photoUrl": "https://lh3.googleusercontent.com/a/default-user=s64",
      "userId": "18027365817574858301"
     },
     "user_tz": -540
    },
    "id": "sPWFKXEOvgyT",
    "outputId": "f96cbb49-23b3-4123-bee5-a0af525cdc6b"
   },
   "outputs": [
    {
     "name": "stdout",
     "output_type": "stream",
     "text": [
      "Drive already mounted at /content/drive; to attempt to forcibly remount, call drive.mount(\"/content/drive\", force_remount=True).\n"
     ]
    }
   ],
   "source": [
    "from google.colab import drive\n",
    "drive.mount('/content/drive')"
   ]
  },
  {
   "cell_type": "code",
   "execution_count": 12,
   "metadata": {
    "colab": {
     "base_uri": "https://localhost:8080/",
     "height": 204
    },
    "executionInfo": {
     "elapsed": 22,
     "status": "ok",
     "timestamp": 1634570894301,
     "user": {
      "displayName": "Nao S",
      "photoUrl": "https://lh3.googleusercontent.com/a/default-user=s64",
      "userId": "18027365817574858301"
     },
     "user_tz": -540
    },
    "id": "N6pkDpa-wW3v",
    "outputId": "b82c3c3d-90cb-44b1-e5ba-fe7af8b00274"
   },
   "outputs": [
    {
     "data": {
      "text/html": [
       "<div>\n",
       "<style scoped>\n",
       "    .dataframe tbody tr th:only-of-type {\n",
       "        vertical-align: middle;\n",
       "    }\n",
       "\n",
       "    .dataframe tbody tr th {\n",
       "        vertical-align: top;\n",
       "    }\n",
       "\n",
       "    .dataframe thead tr th {\n",
       "        text-align: left;\n",
       "    }\n",
       "\n",
       "    .dataframe thead tr:last-of-type th {\n",
       "        text-align: right;\n",
       "    }\n",
       "</style>\n",
       "<table border=\"1\" class=\"dataframe\">\n",
       "  <thead>\n",
       "    <tr>\n",
       "      <th></th>\n",
       "      <th colspan=\"2\" halign=\"left\">PassengerId</th>\n",
       "    </tr>\n",
       "    <tr>\n",
       "      <th>Survived</th>\n",
       "      <th>0</th>\n",
       "      <th>1</th>\n",
       "    </tr>\n",
       "    <tr>\n",
       "      <th>Embarked</th>\n",
       "      <th></th>\n",
       "      <th></th>\n",
       "    </tr>\n",
       "  </thead>\n",
       "  <tbody>\n",
       "    <tr>\n",
       "      <th>C</th>\n",
       "      <td>75</td>\n",
       "      <td>93</td>\n",
       "    </tr>\n",
       "    <tr>\n",
       "      <th>Q</th>\n",
       "      <td>47</td>\n",
       "      <td>30</td>\n",
       "    </tr>\n",
       "    <tr>\n",
       "      <th>S</th>\n",
       "      <td>427</td>\n",
       "      <td>217</td>\n",
       "    </tr>\n",
       "  </tbody>\n",
       "</table>\n",
       "</div>"
      ],
      "text/plain": [
       "         PassengerId     \n",
       "Survived           0    1\n",
       "Embarked                 \n",
       "C                 75   93\n",
       "Q                 47   30\n",
       "S                427  217"
      ]
     },
     "execution_count": 12,
     "metadata": {},
     "output_type": "execute_result"
    }
   ],
   "source": [
    "embarked_df=train_df[['Embarked','Survived','PassengerId']].dropna().groupby(['Embarked','Survived']).count().unstack()\n",
    "embarked_df"
   ]
  },
  {
   "cell_type": "code",
   "execution_count": 13,
   "metadata": {
    "colab": {
     "base_uri": "https://localhost:8080/",
     "height": 297
    },
    "executionInfo": {
     "elapsed": 443,
     "status": "ok",
     "timestamp": 1634570894731,
     "user": {
      "displayName": "Nao S",
      "photoUrl": "https://lh3.googleusercontent.com/a/default-user=s64",
      "userId": "18027365817574858301"
     },
     "user_tz": -540
    },
    "id": "u8acYb0SwW3x",
    "outputId": "70029560-6b8c-4dee-8143-3e111cd26289"
   },
   "outputs": [
    {
     "data": {
      "text/plain": [
       "<matplotlib.axes._subplots.AxesSubplot at 0x7f71350b3b10>"
      ]
     },
     "execution_count": 13,
     "metadata": {},
     "output_type": "execute_result"
    },
    {
     "data": {
      "image/png": "[encoded data removed]",
      "text/plain": [
       "<Figure size 432x288 with 1 Axes>"
      ]
     },
     "metadata": {},
     "output_type": "display_data"
    }
   ],
   "source": [
    "embarked_df.plot.bar(stacked=True)"
   ]
  },
  {
   "cell_type": "code",
   "execution_count": 14,
   "metadata": {
    "executionInfo": {
     "elapsed": 23,
     "status": "ok",
     "timestamp": 1634570894733,
     "user": {
      "displayName": "Nao S",
      "photoUrl": "https://lh3.googleusercontent.com/a/default-user=s64",
      "userId": "18027365817574858301"
     },
     "user_tz": -540
    },
    "id": "FpfjWbf8wW30"
   },
   "outputs": [],
   "source": [
    "embarked_df['Survived_rate']=embarked_df.iloc[:,0]/(embarked_df.iloc[:,0]+embarked_df.iloc[:,1])"
   ]
  },
  {
   "cell_type": "code",
   "execution_count": 15,
   "metadata": {
    "colab": {
     "base_uri": "https://localhost:8080/",
     "height": 204
    },
    "executionInfo": {
     "elapsed": 20,
     "status": "ok",
     "timestamp": 1634570894733,
     "user": {
      "displayName": "Nao S",
      "photoUrl": "https://lh3.googleusercontent.com/a/default-user=s64",
      "userId": "18027365817574858301"
     },
     "user_tz": -540
    },
    "id": "szzz1OnHwW35",
    "outputId": "2ec33a17-8ca9-4b11-ddbc-d43b137ffc4e"
   },
   "outputs": [
    {
     "data": {
      "text/html": [
       "<div>\n",
       "<style scoped>\n",
       "    .dataframe tbody tr th:only-of-type {\n",
       "        vertical-align: middle;\n",
       "    }\n",
       "\n",
       "    .dataframe tbody tr th {\n",
       "        vertical-align: top;\n",
       "    }\n",
       "\n",
       "    .dataframe thead tr th {\n",
       "        text-align: left;\n",
       "    }\n",
       "\n",
       "    .dataframe thead tr:last-of-type th {\n",
       "        text-align: right;\n",
       "    }\n",
       "</style>\n",
       "<table border=\"1\" class=\"dataframe\">\n",
       "  <thead>\n",
       "    <tr>\n",
       "      <th></th>\n",
       "      <th colspan=\"2\" halign=\"left\">PassengerId</th>\n",
       "      <th>Survived_rate</th>\n",
       "    </tr>\n",
       "    <tr>\n",
       "      <th>Survived</th>\n",
       "      <th>0</th>\n",
       "      <th>1</th>\n",
       "      <th></th>\n",
       "    </tr>\n",
       "    <tr>\n",
       "      <th>Embarked</th>\n",
       "      <th></th>\n",
       "      <th></th>\n",
       "      <th></th>\n",
       "    </tr>\n",
       "  </thead>\n",
       "  <tbody>\n",
       "    <tr>\n",
       "      <th>C</th>\n",
       "      <td>75</td>\n",
       "      <td>93</td>\n",
       "      <td>0.446429</td>\n",
       "    </tr>\n",
       "    <tr>\n",
       "      <th>Q</th>\n",
       "      <td>47</td>\n",
       "      <td>30</td>\n",
       "      <td>0.610390</td>\n",
       "    </tr>\n",
       "    <tr>\n",
       "      <th>S</th>\n",
       "      <td>427</td>\n",
       "      <td>217</td>\n",
       "      <td>0.663043</td>\n",
       "    </tr>\n",
       "  </tbody>\n",
       "</table>\n",
       "</div>"
      ],
      "text/plain": [
       "         PassengerId      Survived_rate\n",
       "Survived           0    1              \n",
       "Embarked                               \n",
       "C                 75   93      0.446429\n",
       "Q                 47   30      0.610390\n",
       "S                427  217      0.663043"
      ]
     },
     "execution_count": 15,
     "metadata": {},
     "output_type": "execute_result"
    }
   ],
   "source": [
    "embarked_df"
   ]
  },
  {
   "cell_type": "code",
   "execution_count": 16,
   "metadata": {
    "colab": {
     "base_uri": "https://localhost:8080/",
     "height": 326
    },
    "executionInfo": {
     "elapsed": 450,
     "status": "ok",
     "timestamp": 1634570895167,
     "user": {
      "displayName": "Nao S",
      "photoUrl": "https://lh3.googleusercontent.com/a/default-user=s64",
      "userId": "18027365817574858301"
     },
     "user_tz": -540
    },
    "id": "5be9l_EgwW3-",
    "outputId": "56ce8b5c-4d50-4068-8ac6-0e13b53e204c"
   },
   "outputs": [
    {
     "data": {
      "text/plain": [
       "<matplotlib.axes._subplots.AxesSubplot at 0x7f7133aad110>"
      ]
     },
     "execution_count": 16,
     "metadata": {},
     "output_type": "execute_result"
    },
    {
     "data": {
      "image/png": "[encoded data removed]",
      "text/plain": [
       "<Figure size 432x288 with 1 Axes>"
      ]
     },
     "metadata": {},
     "output_type": "display_data"
    }
   ],
   "source": [
    "sex_df=train_df[['Sex','Survived','PassengerId']].dropna().groupby(['Sex','Survived']).count().unstack()\n",
    "sex_df.plot.bar(stacked=True)"
   ]
  },
  {
   "cell_type": "code",
   "execution_count": 17,
   "metadata": {
    "colab": {
     "base_uri": "https://localhost:8080/",
     "height": 296
    },
    "executionInfo": {
     "elapsed": 24,
     "status": "ok",
     "timestamp": 1634570895170,
     "user": {
      "displayName": "Nao S",
      "photoUrl": "https://lh3.googleusercontent.com/a/default-user=s64",
      "userId": "18027365817574858301"
     },
     "user_tz": -540
    },
    "id": "CjN9-JR3wW4B",
    "outputId": "141f052e-2dc3-4422-f7b3-46773484553e"
   },
   "outputs": [
    {
     "data": {
      "text/plain": [
       "<matplotlib.axes._subplots.AxesSubplot at 0x7f7133a1b390>"
      ]
     },
     "execution_count": 17,
     "metadata": {},
     "output_type": "execute_result"
    },
    {
     "data": {
      "image/png": "[encoded data removed]",
      "text/plain": [
       "<Figure size 432x288 with 1 Axes>"
      ]
     },
     "metadata": {},
     "output_type": "display_data"
    }
   ],
   "source": [
    "ticket_df=train_df[['Pclass','Survived','PassengerId']].dropna().groupby(['Pclass','Survived']).count().unstack()\n",
    "ticket_df.plot.bar(stacked=True)"
   ]
  },
  {
   "cell_type": "code",
   "execution_count": 18,
   "metadata": {
    "colab": {
     "base_uri": "https://localhost:8080/",
     "height": 336
    },
    "executionInfo": {
     "elapsed": 311,
     "status": "ok",
     "timestamp": 1634570895466,
     "user": {
      "displayName": "Nao S",
      "photoUrl": "https://lh3.googleusercontent.com/a/default-user=s64",
      "userId": "18027365817574858301"
     },
     "user_tz": -540
    },
    "id": "6DWsBBUQwW4E",
    "outputId": "aed14a89-9ac6-47a5-e440-4b7e4ef0e40c"
   },
   "outputs": [
    {
     "name": "stderr",
     "output_type": "stream",
     "text": [
      "/usr/local/lib/python3.7/dist-packages/numpy/core/_asarray.py:83: VisibleDeprecationWarning: Creating an ndarray from ragged nested sequences (which is a list-or-tuple of lists-or-tuples-or ndarrays with different lengths or shapes) is deprecated. If you meant to do this, you must specify 'dtype=object' when creating the ndarray\n",
      "  return array(a, dtype, copy=False, order=order)\n"
     ]
    },
    {
     "data": {
      "text/plain": [
       "<matplotlib.legend.Legend at 0x7f7133f604d0>"
      ]
     },
     "execution_count": 18,
     "metadata": {},
     "output_type": "execute_result"
    },
    {
     "data": {
      "image/png": "[encoded data removed]",
      "text/plain": [
       "<Figure size 432x288 with 1 Axes>"
      ]
     },
     "metadata": {},
     "output_type": "display_data"
    }
   ],
   "source": [
    "plt.hist((train_df[train_df[\"Survived\"]==0]['Age'].values,train_df[train_df[\"Survived\"]==1]['Age'].values),histtype=\"barstacked\",bins=8,label=(\"Death\",\"Survive\"))\n",
    "plt.legend()"
   ]
  },
  {
   "cell_type": "code",
   "execution_count": 19,
   "metadata": {
    "executionInfo": {
     "elapsed": 24,
     "status": "ok",
     "timestamp": 1634570895471,
     "user": {
      "displayName": "Nao S",
      "photoUrl": "https://lh3.googleusercontent.com/a/default-user=s64",
      "userId": "18027365817574858301"
     },
     "user_tz": -540
    },
    "id": "TTp9pgzewW4H"
   },
   "outputs": [],
   "source": [
    "train_df_corr=pd.get_dummies(train_df,columns=['Sex'],drop_first=True)\n",
    "train_df_corr=pd.get_dummies(train_df_corr,columns=['Embarked'])"
   ]
  },
  {
   "cell_type": "code",
   "execution_count": 20,
   "metadata": {
    "colab": {
     "base_uri": "https://localhost:8080/",
     "height": 390
    },
    "executionInfo": {
     "elapsed": 21,
     "status": "ok",
     "timestamp": 1634570895472,
     "user": {
      "displayName": "Nao S",
      "photoUrl": "https://lh3.googleusercontent.com/a/default-user=s64",
      "userId": "18027365817574858301"
     },
     "user_tz": -540
    },
    "id": "7cDAouzawW4L",
    "outputId": "9fad0bba-e901-400e-d3bf-fc88ff760681"
   },
   "outputs": [
    {
     "data": {
      "text/html": [
       "<div>\n",
       "<style scoped>\n",
       "    .dataframe tbody tr th:only-of-type {\n",
       "        vertical-align: middle;\n",
       "    }\n",
       "\n",
       "    .dataframe tbody tr th {\n",
       "        vertical-align: top;\n",
       "    }\n",
       "\n",
       "    .dataframe thead th {\n",
       "        text-align: right;\n",
       "    }\n",
       "</style>\n",
       "<table border=\"1\" class=\"dataframe\">\n",
       "  <thead>\n",
       "    <tr style=\"text-align: right;\">\n",
       "      <th></th>\n",
       "      <th>PassengerId</th>\n",
       "      <th>Survived</th>\n",
       "      <th>Pclass</th>\n",
       "      <th>Age</th>\n",
       "      <th>SibSp</th>\n",
       "      <th>Parch</th>\n",
       "      <th>Fare</th>\n",
       "      <th>Sex_male</th>\n",
       "      <th>Embarked_C</th>\n",
       "      <th>Embarked_Q</th>\n",
       "      <th>Embarked_S</th>\n",
       "    </tr>\n",
       "  </thead>\n",
       "  <tbody>\n",
       "    <tr>\n",
       "      <th>PassengerId</th>\n",
       "      <td>1.000000</td>\n",
       "      <td>-0.005007</td>\n",
       "      <td>-0.035144</td>\n",
       "      <td>0.036847</td>\n",
       "      <td>-0.057527</td>\n",
       "      <td>-0.001652</td>\n",
       "      <td>0.012658</td>\n",
       "      <td>0.042939</td>\n",
       "      <td>-0.001205</td>\n",
       "      <td>-0.033606</td>\n",
       "      <td>0.022148</td>\n",
       "    </tr>\n",
       "    <tr>\n",
       "      <th>Survived</th>\n",
       "      <td>-0.005007</td>\n",
       "      <td>1.000000</td>\n",
       "      <td>-0.338481</td>\n",
       "      <td>-0.077221</td>\n",
       "      <td>-0.035322</td>\n",
       "      <td>0.081629</td>\n",
       "      <td>0.257307</td>\n",
       "      <td>-0.543351</td>\n",
       "      <td>0.168240</td>\n",
       "      <td>0.003650</td>\n",
       "      <td>-0.155660</td>\n",
       "    </tr>\n",
       "    <tr>\n",
       "      <th>Pclass</th>\n",
       "      <td>-0.035144</td>\n",
       "      <td>-0.338481</td>\n",
       "      <td>1.000000</td>\n",
       "      <td>-0.369226</td>\n",
       "      <td>0.083081</td>\n",
       "      <td>0.018443</td>\n",
       "      <td>-0.549500</td>\n",
       "      <td>0.131900</td>\n",
       "      <td>-0.243292</td>\n",
       "      <td>0.221009</td>\n",
       "      <td>0.081720</td>\n",
       "    </tr>\n",
       "    <tr>\n",
       "      <th>Age</th>\n",
       "      <td>0.036847</td>\n",
       "      <td>-0.077221</td>\n",
       "      <td>-0.369226</td>\n",
       "      <td>1.000000</td>\n",
       "      <td>-0.308247</td>\n",
       "      <td>-0.189119</td>\n",
       "      <td>0.096067</td>\n",
       "      <td>0.093254</td>\n",
       "      <td>0.036261</td>\n",
       "      <td>-0.022405</td>\n",
       "      <td>-0.032523</td>\n",
       "    </tr>\n",
       "    <tr>\n",
       "      <th>SibSp</th>\n",
       "      <td>-0.057527</td>\n",
       "      <td>-0.035322</td>\n",
       "      <td>0.083081</td>\n",
       "      <td>-0.308247</td>\n",
       "      <td>1.000000</td>\n",
       "      <td>0.414838</td>\n",
       "      <td>0.159651</td>\n",
       "      <td>-0.114631</td>\n",
       "      <td>-0.059528</td>\n",
       "      <td>-0.026354</td>\n",
       "      <td>0.070941</td>\n",
       "    </tr>\n",
       "    <tr>\n",
       "      <th>Parch</th>\n",
       "      <td>-0.001652</td>\n",
       "      <td>0.081629</td>\n",
       "      <td>0.018443</td>\n",
       "      <td>-0.189119</td>\n",
       "      <td>0.414838</td>\n",
       "      <td>1.000000</td>\n",
       "      <td>0.216225</td>\n",
       "      <td>-0.245489</td>\n",
       "      <td>-0.011069</td>\n",
       "      <td>-0.081228</td>\n",
       "      <td>0.063036</td>\n",
       "    </tr>\n",
       "    <tr>\n",
       "      <th>Fare</th>\n",
       "      <td>0.012658</td>\n",
       "      <td>0.257307</td>\n",
       "      <td>-0.549500</td>\n",
       "      <td>0.096067</td>\n",
       "      <td>0.159651</td>\n",
       "      <td>0.216225</td>\n",
       "      <td>1.000000</td>\n",
       "      <td>-0.182333</td>\n",
       "      <td>0.269335</td>\n",
       "      <td>-0.117216</td>\n",
       "      <td>-0.166603</td>\n",
       "    </tr>\n",
       "    <tr>\n",
       "      <th>Sex_male</th>\n",
       "      <td>0.042939</td>\n",
       "      <td>-0.543351</td>\n",
       "      <td>0.131900</td>\n",
       "      <td>0.093254</td>\n",
       "      <td>-0.114631</td>\n",
       "      <td>-0.245489</td>\n",
       "      <td>-0.182333</td>\n",
       "      <td>1.000000</td>\n",
       "      <td>-0.082853</td>\n",
       "      <td>-0.074115</td>\n",
       "      <td>0.125722</td>\n",
       "    </tr>\n",
       "    <tr>\n",
       "      <th>Embarked_C</th>\n",
       "      <td>-0.001205</td>\n",
       "      <td>0.168240</td>\n",
       "      <td>-0.243292</td>\n",
       "      <td>0.036261</td>\n",
       "      <td>-0.059528</td>\n",
       "      <td>-0.011069</td>\n",
       "      <td>0.269335</td>\n",
       "      <td>-0.082853</td>\n",
       "      <td>1.000000</td>\n",
       "      <td>-0.148258</td>\n",
       "      <td>-0.778359</td>\n",
       "    </tr>\n",
       "    <tr>\n",
       "      <th>Embarked_Q</th>\n",
       "      <td>-0.033606</td>\n",
       "      <td>0.003650</td>\n",
       "      <td>0.221009</td>\n",
       "      <td>-0.022405</td>\n",
       "      <td>-0.026354</td>\n",
       "      <td>-0.081228</td>\n",
       "      <td>-0.117216</td>\n",
       "      <td>-0.074115</td>\n",
       "      <td>-0.148258</td>\n",
       "      <td>1.000000</td>\n",
       "      <td>-0.496624</td>\n",
       "    </tr>\n",
       "    <tr>\n",
       "      <th>Embarked_S</th>\n",
       "      <td>0.022148</td>\n",
       "      <td>-0.155660</td>\n",
       "      <td>0.081720</td>\n",
       "      <td>-0.032523</td>\n",
       "      <td>0.070941</td>\n",
       "      <td>0.063036</td>\n",
       "      <td>-0.166603</td>\n",
       "      <td>0.125722</td>\n",
       "      <td>-0.778359</td>\n",
       "      <td>-0.496624</td>\n",
       "      <td>1.000000</td>\n",
       "    </tr>\n",
       "  </tbody>\n",
       "</table>\n",
       "</div>"
      ],
      "text/plain": [
       "             PassengerId  Survived  ...  Embarked_Q  Embarked_S\n",
       "PassengerId     1.000000 -0.005007  ...   -0.033606    0.022148\n",
       "Survived       -0.005007  1.000000  ...    0.003650   -0.155660\n",
       "Pclass         -0.035144 -0.338481  ...    0.221009    0.081720\n",
       "Age             0.036847 -0.077221  ...   -0.022405   -0.032523\n",
       "SibSp          -0.057527 -0.035322  ...   -0.026354    0.070941\n",
       "Parch          -0.001652  0.081629  ...   -0.081228    0.063036\n",
       "Fare            0.012658  0.257307  ...   -0.117216   -0.166603\n",
       "Sex_male        0.042939 -0.543351  ...   -0.074115    0.125722\n",
       "Embarked_C     -0.001205  0.168240  ...   -0.148258   -0.778359\n",
       "Embarked_Q     -0.033606  0.003650  ...    1.000000   -0.496624\n",
       "Embarked_S      0.022148 -0.155660  ...   -0.496624    1.000000\n",
       "\n",
       "[11 rows x 11 columns]"
      ]
     },
     "execution_count": 20,
     "metadata": {},
     "output_type": "execute_result"
    }
   ],
   "source": [
    "train_corr=train_df_corr.corr()\n",
    "train_corr"
   ]
  },
  {
   "cell_type": "code",
   "execution_count": 21,
   "metadata": {
    "colab": {
     "base_uri": "https://localhost:8080/",
     "height": 611
    },
    "executionInfo": {
     "elapsed": 1367,
     "status": "ok",
     "timestamp": 1634570896820,
     "user": {
      "displayName": "Nao S",
      "photoUrl": "https://lh3.googleusercontent.com/a/default-user=s64",
      "userId": "18027365817574858301"
     },
     "user_tz": -540
    },
    "id": "j8yCpOuqwW4Q",
    "outputId": "59593a56-0f4e-4663-c4c4-5f8720ab6549"
   },
   "outputs": [
    {
     "data": {
      "text/plain": [
       "<matplotlib.axes._subplots.AxesSubplot at 0x7f71338e7890>"
      ]
     },
     "execution_count": 21,
     "metadata": {},
     "output_type": "execute_result"
    },
    {
     "data": {
      "image/png": "[encoded data removed]",
      "text/plain": [
       "<Figure size 648x648 with 2 Axes>"
      ]
     },
     "metadata": {},
     "output_type": "display_data"
    }
   ],
   "source": [
    "plt.figure(figsize=(9,9))\n",
    "sns.heatmap(train_corr,vmax=1,vmin=-1,center=0,annot=True)"
   ]
  },
  {
   "cell_type": "code",
   "execution_count": 22,
   "metadata": {
    "colab": {
     "base_uri": "https://localhost:8080/",
     "height": 419
    },
    "executionInfo": {
     "elapsed": 15,
     "status": "ok",
     "timestamp": 1634570896821,
     "user": {
      "displayName": "Nao S",
      "photoUrl": "https://lh3.googleusercontent.com/a/default-user=s64",
      "userId": "18027365817574858301"
     },
     "user_tz": -540
    },
    "id": "4LnC1OOCwW4U",
    "outputId": "96b7c267-dd4d-43d2-cc69-b11fcda0ec97"
   },
   "outputs": [
    {
     "data": {
      "text/html": [
       "<div>\n",
       "<style scoped>\n",
       "    .dataframe tbody tr th:only-of-type {\n",
       "        vertical-align: middle;\n",
       "    }\n",
       "\n",
       "    .dataframe tbody tr th {\n",
       "        vertical-align: top;\n",
       "    }\n",
       "\n",
       "    .dataframe thead th {\n",
       "        text-align: right;\n",
       "    }\n",
       "</style>\n",
       "<table border=\"1\" class=\"dataframe\">\n",
       "  <thead>\n",
       "    <tr style=\"text-align: right;\">\n",
       "      <th></th>\n",
       "      <th>PassengerId</th>\n",
       "      <th>Survived</th>\n",
       "      <th>Pclass</th>\n",
       "      <th>Name</th>\n",
       "      <th>Sex</th>\n",
       "      <th>Age</th>\n",
       "      <th>SibSp</th>\n",
       "      <th>Parch</th>\n",
       "      <th>Ticket</th>\n",
       "      <th>Fare</th>\n",
       "      <th>Cabin</th>\n",
       "      <th>Embarked</th>\n",
       "    </tr>\n",
       "  </thead>\n",
       "  <tbody>\n",
       "    <tr>\n",
       "      <th>0</th>\n",
       "      <td>1</td>\n",
       "      <td>0.0</td>\n",
       "      <td>3</td>\n",
       "      <td>Braund, Mr. Owen Harris</td>\n",
       "      <td>male</td>\n",
       "      <td>22.0</td>\n",
       "      <td>1</td>\n",
       "      <td>0</td>\n",
       "      <td>A/5 21171</td>\n",
       "      <td>7.2500</td>\n",
       "      <td>NaN</td>\n",
       "      <td>S</td>\n",
       "    </tr>\n",
       "    <tr>\n",
       "      <th>1</th>\n",
       "      <td>2</td>\n",
       "      <td>1.0</td>\n",
       "      <td>1</td>\n",
       "      <td>Cumings, Mrs. John Bradley (Florence Briggs Th...</td>\n",
       "      <td>female</td>\n",
       "      <td>38.0</td>\n",
       "      <td>1</td>\n",
       "      <td>0</td>\n",
       "      <td>PC 17599</td>\n",
       "      <td>71.2833</td>\n",
       "      <td>C85</td>\n",
       "      <td>C</td>\n",
       "    </tr>\n",
       "    <tr>\n",
       "      <th>2</th>\n",
       "      <td>3</td>\n",
       "      <td>1.0</td>\n",
       "      <td>3</td>\n",
       "      <td>Heikkinen, Miss. Laina</td>\n",
       "      <td>female</td>\n",
       "      <td>26.0</td>\n",
       "      <td>0</td>\n",
       "      <td>0</td>\n",
       "      <td>STON/O2. 3101282</td>\n",
       "      <td>7.9250</td>\n",
       "      <td>NaN</td>\n",
       "      <td>S</td>\n",
       "    </tr>\n",
       "    <tr>\n",
       "      <th>3</th>\n",
       "      <td>4</td>\n",
       "      <td>1.0</td>\n",
       "      <td>1</td>\n",
       "      <td>Futrelle, Mrs. Jacques Heath (Lily May Peel)</td>\n",
       "      <td>female</td>\n",
       "      <td>35.0</td>\n",
       "      <td>1</td>\n",
       "      <td>0</td>\n",
       "      <td>113803</td>\n",
       "      <td>53.1000</td>\n",
       "      <td>C123</td>\n",
       "      <td>S</td>\n",
       "    </tr>\n",
       "    <tr>\n",
       "      <th>4</th>\n",
       "      <td>5</td>\n",
       "      <td>0.0</td>\n",
       "      <td>3</td>\n",
       "      <td>Allen, Mr. William Henry</td>\n",
       "      <td>male</td>\n",
       "      <td>35.0</td>\n",
       "      <td>0</td>\n",
       "      <td>0</td>\n",
       "      <td>373450</td>\n",
       "      <td>8.0500</td>\n",
       "      <td>NaN</td>\n",
       "      <td>S</td>\n",
       "    </tr>\n",
       "    <tr>\n",
       "      <th>...</th>\n",
       "      <td>...</td>\n",
       "      <td>...</td>\n",
       "      <td>...</td>\n",
       "      <td>...</td>\n",
       "      <td>...</td>\n",
       "      <td>...</td>\n",
       "      <td>...</td>\n",
       "      <td>...</td>\n",
       "      <td>...</td>\n",
       "      <td>...</td>\n",
       "      <td>...</td>\n",
       "      <td>...</td>\n",
       "    </tr>\n",
       "    <tr>\n",
       "      <th>1304</th>\n",
       "      <td>1305</td>\n",
       "      <td>NaN</td>\n",
       "      <td>3</td>\n",
       "      <td>Spector, Mr. Woolf</td>\n",
       "      <td>male</td>\n",
       "      <td>NaN</td>\n",
       "      <td>0</td>\n",
       "      <td>0</td>\n",
       "      <td>A.5. 3236</td>\n",
       "      <td>8.0500</td>\n",
       "      <td>NaN</td>\n",
       "      <td>S</td>\n",
       "    </tr>\n",
       "    <tr>\n",
       "      <th>1305</th>\n",
       "      <td>1306</td>\n",
       "      <td>NaN</td>\n",
       "      <td>1</td>\n",
       "      <td>Oliva y Ocana, Dona. Fermina</td>\n",
       "      <td>female</td>\n",
       "      <td>39.0</td>\n",
       "      <td>0</td>\n",
       "      <td>0</td>\n",
       "      <td>PC 17758</td>\n",
       "      <td>108.9000</td>\n",
       "      <td>C105</td>\n",
       "      <td>C</td>\n",
       "    </tr>\n",
       "    <tr>\n",
       "      <th>1306</th>\n",
       "      <td>1307</td>\n",
       "      <td>NaN</td>\n",
       "      <td>3</td>\n",
       "      <td>Saether, Mr. Simon Sivertsen</td>\n",
       "      <td>male</td>\n",
       "      <td>38.5</td>\n",
       "      <td>0</td>\n",
       "      <td>0</td>\n",
       "      <td>SOTON/O.Q. 3101262</td>\n",
       "      <td>7.2500</td>\n",
       "      <td>NaN</td>\n",
       "      <td>S</td>\n",
       "    </tr>\n",
       "    <tr>\n",
       "      <th>1307</th>\n",
       "      <td>1308</td>\n",
       "      <td>NaN</td>\n",
       "      <td>3</td>\n",
       "      <td>Ware, Mr. Frederick</td>\n",
       "      <td>male</td>\n",
       "      <td>NaN</td>\n",
       "      <td>0</td>\n",
       "      <td>0</td>\n",
       "      <td>359309</td>\n",
       "      <td>8.0500</td>\n",
       "      <td>NaN</td>\n",
       "      <td>S</td>\n",
       "    </tr>\n",
       "    <tr>\n",
       "      <th>1308</th>\n",
       "      <td>1309</td>\n",
       "      <td>NaN</td>\n",
       "      <td>3</td>\n",
       "      <td>Peter, Master. Michael J</td>\n",
       "      <td>male</td>\n",
       "      <td>NaN</td>\n",
       "      <td>1</td>\n",
       "      <td>1</td>\n",
       "      <td>2668</td>\n",
       "      <td>22.3583</td>\n",
       "      <td>NaN</td>\n",
       "      <td>C</td>\n",
       "    </tr>\n",
       "  </tbody>\n",
       "</table>\n",
       "<p>1309 rows × 12 columns</p>\n",
       "</div>"
      ],
      "text/plain": [
       "      PassengerId  Survived  Pclass  ...      Fare Cabin  Embarked\n",
       "0               1       0.0       3  ...    7.2500   NaN         S\n",
       "1               2       1.0       1  ...   71.2833   C85         C\n",
       "2               3       1.0       3  ...    7.9250   NaN         S\n",
       "3               4       1.0       1  ...   53.1000  C123         S\n",
       "4               5       0.0       3  ...    8.0500   NaN         S\n",
       "...           ...       ...     ...  ...       ...   ...       ...\n",
       "1304         1305       NaN       3  ...    8.0500   NaN         S\n",
       "1305         1306       NaN       1  ...  108.9000  C105         C\n",
       "1306         1307       NaN       3  ...    7.2500   NaN         S\n",
       "1307         1308       NaN       3  ...    8.0500   NaN         S\n",
       "1308         1309       NaN       3  ...   22.3583   NaN         C\n",
       "\n",
       "[1309 rows x 12 columns]"
      ]
     },
     "execution_count": 22,
     "metadata": {},
     "output_type": "execute_result"
    }
   ],
   "source": [
    "all_df=pd.concat([train_df,test_df],sort=False).reset_index(drop=True)\n",
    "all_df"
   ]
  },
  {
   "cell_type": "code",
   "execution_count": 23,
   "metadata": {
    "colab": {
     "base_uri": "https://localhost:8080/"
    },
    "executionInfo": {
     "elapsed": 11,
     "status": "ok",
     "timestamp": 1634570896821,
     "user": {
      "displayName": "Nao S",
      "photoUrl": "https://lh3.googleusercontent.com/a/default-user=s64",
      "userId": "18027365817574858301"
     },
     "user_tz": -540
    },
    "id": "2sdHBxwYwW4a",
    "outputId": "c56e1c36-f24a-454f-b1f1-c917d57ea97f"
   },
   "outputs": [
    {
     "data": {
      "text/plain": [
       "PassengerId       0\n",
       "Survived        418\n",
       "Pclass            0\n",
       "Name              0\n",
       "Sex               0\n",
       "Age             263\n",
       "SibSp             0\n",
       "Parch             0\n",
       "Ticket            0\n",
       "Fare              1\n",
       "Cabin          1014\n",
       "Embarked          2\n",
       "dtype: int64"
      ]
     },
     "execution_count": 23,
     "metadata": {},
     "output_type": "execute_result"
    }
   ],
   "source": [
    "all_df.isnull().sum()"
   ]
  },
  {
   "cell_type": "code",
   "execution_count": 24,
   "metadata": {
    "executionInfo": {
     "elapsed": 436,
     "status": "ok",
     "timestamp": 1634570897250,
     "user": {
      "displayName": "Nao S",
      "photoUrl": "https://lh3.googleusercontent.com/a/default-user=s64",
      "userId": "18027365817574858301"
     },
     "user_tz": -540
    },
    "id": "QE8Ko56kwW4e"
   },
   "outputs": [],
   "source": [
    "Fare_mean=all_df[['Pclass','Fare']].groupby('Pclass').mean().reset_index()"
   ]
  },
  {
   "cell_type": "code",
   "execution_count": 25,
   "metadata": {
    "colab": {
     "base_uri": "https://localhost:8080/",
     "height": 142
    },
    "executionInfo": {
     "elapsed": 20,
     "status": "ok",
     "timestamp": 1634570897251,
     "user": {
      "displayName": "Nao S",
      "photoUrl": "https://lh3.googleusercontent.com/a/default-user=s64",
      "userId": "18027365817574858301"
     },
     "user_tz": -540
    },
    "id": "K-tL8LFzwW4f",
    "outputId": "54c0abf1-d01e-45a9-a6bd-3026b6f737f6"
   },
   "outputs": [
    {
     "data": {
      "text/html": [
       "<div>\n",
       "<style scoped>\n",
       "    .dataframe tbody tr th:only-of-type {\n",
       "        vertical-align: middle;\n",
       "    }\n",
       "\n",
       "    .dataframe tbody tr th {\n",
       "        vertical-align: top;\n",
       "    }\n",
       "\n",
       "    .dataframe thead th {\n",
       "        text-align: right;\n",
       "    }\n",
       "</style>\n",
       "<table border=\"1\" class=\"dataframe\">\n",
       "  <thead>\n",
       "    <tr style=\"text-align: right;\">\n",
       "      <th></th>\n",
       "      <th>Pclass</th>\n",
       "      <th>Fare_mean</th>\n",
       "    </tr>\n",
       "  </thead>\n",
       "  <tbody>\n",
       "    <tr>\n",
       "      <th>0</th>\n",
       "      <td>1</td>\n",
       "      <td>87.508992</td>\n",
       "    </tr>\n",
       "    <tr>\n",
       "      <th>1</th>\n",
       "      <td>2</td>\n",
       "      <td>21.179196</td>\n",
       "    </tr>\n",
       "    <tr>\n",
       "      <th>2</th>\n",
       "      <td>3</td>\n",
       "      <td>13.302889</td>\n",
       "    </tr>\n",
       "  </tbody>\n",
       "</table>\n",
       "</div>"
      ],
      "text/plain": [
       "   Pclass  Fare_mean\n",
       "0       1  87.508992\n",
       "1       2  21.179196\n",
       "2       3  13.302889"
      ]
     },
     "execution_count": 25,
     "metadata": {},
     "output_type": "execute_result"
    }
   ],
   "source": [
    "Fare_mean.columns=['Pclass','Fare_mean']\n",
    "Fare_mean"
   ]
  },
  {
   "cell_type": "code",
   "execution_count": 26,
   "metadata": {
    "executionInfo": {
     "elapsed": 16,
     "status": "ok",
     "timestamp": 1634570897251,
     "user": {
      "displayName": "Nao S",
      "photoUrl": "https://lh3.googleusercontent.com/a/default-user=s64",
      "userId": "18027365817574858301"
     },
     "user_tz": -540
    },
    "id": "QBWSSL1zwW4r"
   },
   "outputs": [],
   "source": [
    "all_df=pd.merge(all_df,Fare_mean,on='Pclass',how='left')\n",
    "all_df.loc[(all_df['Fare'].isnull()),'Fare']=all_df['Fare_mean']\n",
    "all_df=all_df.drop('Fare_mean',axis=1)"
   ]
  },
  {
   "cell_type": "code",
   "execution_count": 27,
   "metadata": {
    "executionInfo": {
     "elapsed": 17,
     "status": "ok",
     "timestamp": 1634570897252,
     "user": {
      "displayName": "Nao S",
      "photoUrl": "https://lh3.googleusercontent.com/a/default-user=s64",
      "userId": "18027365817574858301"
     },
     "user_tz": -540
    },
    "id": "xXDgCj0VwW4u"
   },
   "outputs": [],
   "source": [
    "name_df=all_df['Name'].str.split('[,.]',2,expand=True)\n",
    "name_df.columns=['familly_name','honorific','name']"
   ]
  },
  {
   "cell_type": "code",
   "execution_count": 28,
   "metadata": {
    "executionInfo": {
     "elapsed": 16,
     "status": "ok",
     "timestamp": 1634570897252,
     "user": {
      "displayName": "Nao S",
      "photoUrl": "https://lh3.googleusercontent.com/a/default-user=s64",
      "userId": "18027365817574858301"
     },
     "user_tz": -540
    },
    "id": "P9JJBbiswW4v"
   },
   "outputs": [],
   "source": [
    "name_df['familly_name']=name_df['familly_name'].str.strip()\n",
    "name_df['honorific']=name_df['honorific'].str.strip()\n",
    "name_df['name']=name_df['name'].str.strip()"
   ]
  },
  {
   "cell_type": "code",
   "execution_count": 29,
   "metadata": {
    "colab": {
     "base_uri": "https://localhost:8080/"
    },
    "executionInfo": {
     "elapsed": 16,
     "status": "ok",
     "timestamp": 1634570897252,
     "user": {
      "displayName": "Nao S",
      "photoUrl": "https://lh3.googleusercontent.com/a/default-user=s64",
      "userId": "18027365817574858301"
     },
     "user_tz": -540
    },
    "id": "SrGanyFvwW41",
    "outputId": "6028566b-84d6-4c6d-f7a3-227d2b327823"
   },
   "outputs": [
    {
     "data": {
      "text/plain": [
       "Mr              757\n",
       "Miss            260\n",
       "Mrs             197\n",
       "Master           61\n",
       "Dr                8\n",
       "Rev               8\n",
       "Col               4\n",
       "Mlle              2\n",
       "Major             2\n",
       "Ms                2\n",
       "Jonkheer          1\n",
       "Capt              1\n",
       "Mme               1\n",
       "Dona              1\n",
       "the Countess      1\n",
       "Don               1\n",
       "Lady              1\n",
       "Sir               1\n",
       "Name: honorific, dtype: int64"
      ]
     },
     "execution_count": 29,
     "metadata": {},
     "output_type": "execute_result"
    }
   ],
   "source": [
    "name_df['honorific'].value_counts()"
   ]
  },
  {
   "cell_type": "code",
   "execution_count": 30,
   "metadata": {
    "executionInfo": {
     "elapsed": 13,
     "status": "ok",
     "timestamp": 1634570897252,
     "user": {
      "displayName": "Nao S",
      "photoUrl": "https://lh3.googleusercontent.com/a/default-user=s64",
      "userId": "18027365817574858301"
     },
     "user_tz": -540
    },
    "id": "NwDi9A_swW46"
   },
   "outputs": [],
   "source": [
    "all_df=pd.concat([all_df,name_df],axis=1)"
   ]
  },
  {
   "cell_type": "code",
   "execution_count": 31,
   "metadata": {
    "colab": {
     "base_uri": "https://localhost:8080/",
     "height": 354
    },
    "executionInfo": {
     "elapsed": 14,
     "status": "ok",
     "timestamp": 1634570897253,
     "user": {
      "displayName": "Nao S",
      "photoUrl": "https://lh3.googleusercontent.com/a/default-user=s64",
      "userId": "18027365817574858301"
     },
     "user_tz": -540
    },
    "id": "H_Lpq-qTwW4-",
    "outputId": "fe030f0b-41ce-4ded-8024-6ec6fbcde046"
   },
   "outputs": [
    {
     "data": {
      "text/plain": [
       "<matplotlib.axes._subplots.AxesSubplot at 0x7f7133994b90>"
      ]
     },
     "execution_count": 31,
     "metadata": {},
     "output_type": "execute_result"
    },
    {
     "data": {
      "image/png": "[encoded data removed]",
      "text/plain": [
       "<Figure size 1296x360 with 1 Axes>"
      ]
     },
     "metadata": {},
     "output_type": "display_data"
    }
   ],
   "source": [
    "plt.figure(figsize=(18,5))\n",
    "sns.boxplot(x=\"honorific\",y='Age',data=all_df)"
   ]
  },
  {
   "cell_type": "code",
   "execution_count": 32,
   "metadata": {
    "colab": {
     "base_uri": "https://localhost:8080/",
     "height": 638
    },
    "executionInfo": {
     "elapsed": 20,
     "status": "ok",
     "timestamp": 1634570897768,
     "user": {
      "displayName": "Nao S",
      "photoUrl": "https://lh3.googleusercontent.com/a/default-user=s64",
      "userId": "18027365817574858301"
     },
     "user_tz": -540
    },
    "id": "YzyAaZ5NwW4_",
    "outputId": "3807d13e-94fb-4a32-81a4-d36a82193163"
   },
   "outputs": [
    {
     "data": {
      "text/html": [
       "<div>\n",
       "<style scoped>\n",
       "    .dataframe tbody tr th:only-of-type {\n",
       "        vertical-align: middle;\n",
       "    }\n",
       "\n",
       "    .dataframe tbody tr th {\n",
       "        vertical-align: top;\n",
       "    }\n",
       "\n",
       "    .dataframe thead th {\n",
       "        text-align: right;\n",
       "    }\n",
       "</style>\n",
       "<table border=\"1\" class=\"dataframe\">\n",
       "  <thead>\n",
       "    <tr style=\"text-align: right;\">\n",
       "      <th></th>\n",
       "      <th>Age</th>\n",
       "    </tr>\n",
       "    <tr>\n",
       "      <th>honorific</th>\n",
       "      <th></th>\n",
       "    </tr>\n",
       "  </thead>\n",
       "  <tbody>\n",
       "    <tr>\n",
       "      <th>Capt</th>\n",
       "      <td>70.000000</td>\n",
       "    </tr>\n",
       "    <tr>\n",
       "      <th>Col</th>\n",
       "      <td>54.000000</td>\n",
       "    </tr>\n",
       "    <tr>\n",
       "      <th>Don</th>\n",
       "      <td>40.000000</td>\n",
       "    </tr>\n",
       "    <tr>\n",
       "      <th>Dona</th>\n",
       "      <td>39.000000</td>\n",
       "    </tr>\n",
       "    <tr>\n",
       "      <th>Dr</th>\n",
       "      <td>43.571429</td>\n",
       "    </tr>\n",
       "    <tr>\n",
       "      <th>Jonkheer</th>\n",
       "      <td>38.000000</td>\n",
       "    </tr>\n",
       "    <tr>\n",
       "      <th>Lady</th>\n",
       "      <td>48.000000</td>\n",
       "    </tr>\n",
       "    <tr>\n",
       "      <th>Major</th>\n",
       "      <td>48.500000</td>\n",
       "    </tr>\n",
       "    <tr>\n",
       "      <th>Master</th>\n",
       "      <td>5.482642</td>\n",
       "    </tr>\n",
       "    <tr>\n",
       "      <th>Miss</th>\n",
       "      <td>21.774238</td>\n",
       "    </tr>\n",
       "    <tr>\n",
       "      <th>Mlle</th>\n",
       "      <td>24.000000</td>\n",
       "    </tr>\n",
       "    <tr>\n",
       "      <th>Mme</th>\n",
       "      <td>24.000000</td>\n",
       "    </tr>\n",
       "    <tr>\n",
       "      <th>Mr</th>\n",
       "      <td>32.252151</td>\n",
       "    </tr>\n",
       "    <tr>\n",
       "      <th>Mrs</th>\n",
       "      <td>36.994118</td>\n",
       "    </tr>\n",
       "    <tr>\n",
       "      <th>Ms</th>\n",
       "      <td>28.000000</td>\n",
       "    </tr>\n",
       "    <tr>\n",
       "      <th>Rev</th>\n",
       "      <td>41.250000</td>\n",
       "    </tr>\n",
       "    <tr>\n",
       "      <th>Sir</th>\n",
       "      <td>49.000000</td>\n",
       "    </tr>\n",
       "    <tr>\n",
       "      <th>the Countess</th>\n",
       "      <td>33.000000</td>\n",
       "    </tr>\n",
       "  </tbody>\n",
       "</table>\n",
       "</div>"
      ],
      "text/plain": [
       "                    Age\n",
       "honorific              \n",
       "Capt          70.000000\n",
       "Col           54.000000\n",
       "Don           40.000000\n",
       "Dona          39.000000\n",
       "Dr            43.571429\n",
       "Jonkheer      38.000000\n",
       "Lady          48.000000\n",
       "Major         48.500000\n",
       "Master         5.482642\n",
       "Miss          21.774238\n",
       "Mlle          24.000000\n",
       "Mme           24.000000\n",
       "Mr            32.252151\n",
       "Mrs           36.994118\n",
       "Ms            28.000000\n",
       "Rev           41.250000\n",
       "Sir           49.000000\n",
       "the Countess  33.000000"
      ]
     },
     "execution_count": 32,
     "metadata": {},
     "output_type": "execute_result"
    }
   ],
   "source": [
    "all_df[['Age','honorific']].groupby('honorific').mean()"
   ]
  },
  {
   "cell_type": "code",
   "execution_count": 33,
   "metadata": {
    "executionInfo": {
     "elapsed": 16,
     "status": "ok",
     "timestamp": 1634570897770,
     "user": {
      "displayName": "Nao S",
      "photoUrl": "https://lh3.googleusercontent.com/a/default-user=s64",
      "userId": "18027365817574858301"
     },
     "user_tz": -540
    },
    "id": "senfj8kqwW5C"
   },
   "outputs": [],
   "source": [
    "train_df=pd.concat([train_df,name_df[0:len(train_df)].reset_index(drop=True)],axis=1)\n",
    "test_df=pd.concat([test_df,name_df[len(train_df):].reset_index(drop=True)],axis=1)"
   ]
  },
  {
   "cell_type": "code",
   "execution_count": 34,
   "metadata": {
    "colab": {
     "base_uri": "https://localhost:8080/",
     "height": 355
    },
    "executionInfo": {
     "elapsed": 16,
     "status": "ok",
     "timestamp": 1634570897770,
     "user": {
      "displayName": "Nao S",
      "photoUrl": "https://lh3.googleusercontent.com/a/default-user=s64",
      "userId": "18027365817574858301"
     },
     "user_tz": -540
    },
    "id": "MRWwFrnSwW5G",
    "outputId": "07f4d2ac-a514-4a75-9fb9-8139ba73e560"
   },
   "outputs": [
    {
     "data": {
      "text/plain": [
       "<matplotlib.axes._subplots.AxesSubplot at 0x7f7129415c90>"
      ]
     },
     "execution_count": 34,
     "metadata": {},
     "output_type": "execute_result"
    },
    {
     "data": {
      "image/png": "[encoded data removed]",
      "text/plain": [
       "<Figure size 432x288 with 1 Axes>"
      ]
     },
     "metadata": {},
     "output_type": "display_data"
    }
   ],
   "source": [
    "honorific_df=train_df[['honorific','Survived','PassengerId']].dropna().groupby(['honorific','Survived']).count().unstack()\n",
    "honorific_df.plot.bar(stacked=True)"
   ]
  },
  {
   "cell_type": "code",
   "execution_count": 35,
   "metadata": {
    "executionInfo": {
     "elapsed": 11,
     "status": "ok",
     "timestamp": 1634570897770,
     "user": {
      "displayName": "Nao S",
      "photoUrl": "https://lh3.googleusercontent.com/a/default-user=s64",
      "userId": "18027365817574858301"
     },
     "user_tz": -540
    },
    "id": "IjMwmF8LwW5H"
   },
   "outputs": [],
   "source": [
    "honorific_age_mean=all_df[['honorific','Age']].groupby('honorific').mean().reset_index()\n",
    "honorific_age_mean.columns=['honorific','honorific_Age']"
   ]
  },
  {
   "cell_type": "code",
   "execution_count": 36,
   "metadata": {
    "executionInfo": {
     "elapsed": 12,
     "status": "ok",
     "timestamp": 1634570897771,
     "user": {
      "displayName": "Nao S",
      "photoUrl": "https://lh3.googleusercontent.com/a/default-user=s64",
      "userId": "18027365817574858301"
     },
     "user_tz": -540
    },
    "id": "yXHkJD0FwW5H"
   },
   "outputs": [],
   "source": [
    "all_df=pd.merge(all_df,honorific_age_mean,on='honorific',how='left')\n",
    "all_df.loc[(all_df['Age'].isnull()),'Age']=all_df['honorific_Age']\n",
    "all_df=all_df.drop(['honorific_Age'],axis=1)"
   ]
  },
  {
   "cell_type": "code",
   "execution_count": 37,
   "metadata": {
    "colab": {
     "base_uri": "https://localhost:8080/"
    },
    "executionInfo": {
     "elapsed": 12,
     "status": "ok",
     "timestamp": 1634570897771,
     "user": {
      "displayName": "Nao S",
      "photoUrl": "https://lh3.googleusercontent.com/a/default-user=s64",
      "userId": "18027365817574858301"
     },
     "user_tz": -540
    },
    "id": "gc9fZmNuwW5N",
    "outputId": "0916440d-2d15-4565-fab3-cee1a1682d9b"
   },
   "outputs": [
    {
     "data": {
      "text/plain": [
       "0     790\n",
       "1     235\n",
       "2     159\n",
       "3      43\n",
       "5      25\n",
       "4      22\n",
       "6      16\n",
       "10     11\n",
       "7       8\n",
       "Name: familly_num, dtype: int64"
      ]
     },
     "execution_count": 37,
     "metadata": {},
     "output_type": "execute_result"
    }
   ],
   "source": [
    "all_df['familly_num']=all_df['Parch']+all_df['SibSp']\n",
    "all_df['familly_num'].value_counts()"
   ]
  },
  {
   "cell_type": "code",
   "execution_count": 38,
   "metadata": {
    "executionInfo": {
     "elapsed": 27,
     "status": "ok",
     "timestamp": 1634570898337,
     "user": {
      "displayName": "Nao S",
      "photoUrl": "https://lh3.googleusercontent.com/a/default-user=s64",
      "userId": "18027365817574858301"
     },
     "user_tz": -540
    },
    "id": "s3jUdEtKwW5O"
   },
   "outputs": [],
   "source": [
    "all_df.loc[all_df['familly_num']==0,'alone']=1\n",
    "all_df['alone'].fillna(0,inplace=True)"
   ]
  },
  {
   "cell_type": "code",
   "execution_count": 39,
   "metadata": {
    "executionInfo": {
     "elapsed": 26,
     "status": "ok",
     "timestamp": 1634570898338,
     "user": {
      "displayName": "Nao S",
      "photoUrl": "https://lh3.googleusercontent.com/a/default-user=s64",
      "userId": "18027365817574858301"
     },
     "user_tz": -540
    },
    "id": "2kbHkaOYwW5P"
   },
   "outputs": [],
   "source": [
    "all_df=all_df.drop(['PassengerId','Name','familly_name','name','Ticket','Cabin'],axis=1)"
   ]
  },
  {
   "cell_type": "code",
   "execution_count": 40,
   "metadata": {
    "colab": {
     "base_uri": "https://localhost:8080/"
    },
    "executionInfo": {
     "elapsed": 26,
     "status": "ok",
     "timestamp": 1634570898338,
     "user": {
      "displayName": "Nao S",
      "photoUrl": "https://lh3.googleusercontent.com/a/default-user=s64",
      "userId": "18027365817574858301"
     },
     "user_tz": -540
    },
    "id": "4IYAQGPDwW5P",
    "outputId": "0ce24050-9d08-4732-8dcc-6ffee8210cb1"
   },
   "outputs": [
    {
     "name": "stdout",
     "output_type": "stream",
     "text": [
      "Index(['Sex', 'Embarked', 'honorific'], dtype='object')\n"
     ]
    }
   ],
   "source": [
    "categories=all_df.columns[all_df.dtypes=='object']\n",
    "print(categories)"
   ]
  },
  {
   "cell_type": "code",
   "execution_count": 41,
   "metadata": {
    "executionInfo": {
     "elapsed": 23,
     "status": "ok",
     "timestamp": 1634570898338,
     "user": {
      "displayName": "Nao S",
      "photoUrl": "https://lh3.googleusercontent.com/a/default-user=s64",
      "userId": "18027365817574858301"
     },
     "user_tz": -540
    },
    "id": "TAJwipdCwW5P"
   },
   "outputs": [],
   "source": [
    "all_df.loc[~((all_df['honorific']=='Mr')|(all_df['honorific']=='Miss')|(all_df['honorific']=='Mrs')|(all_df['honorific']=='Master')),'honorific']='other'"
   ]
  },
  {
   "cell_type": "code",
   "execution_count": 42,
   "metadata": {
    "colab": {
     "base_uri": "https://localhost:8080/"
    },
    "executionInfo": {
     "elapsed": 23,
     "status": "ok",
     "timestamp": 1634570898338,
     "user": {
      "displayName": "Nao S",
      "photoUrl": "https://lh3.googleusercontent.com/a/default-user=s64",
      "userId": "18027365817574858301"
     },
     "user_tz": -540
    },
    "id": "kiX-NNsxwW5P",
    "outputId": "fdd556c9-c562-471d-93a0-fba026fda423"
   },
   "outputs": [
    {
     "data": {
      "text/plain": [
       "Mr        757\n",
       "Miss      260\n",
       "Mrs       197\n",
       "Master     61\n",
       "other      34\n",
       "Name: honorific, dtype: int64"
      ]
     },
     "execution_count": 42,
     "metadata": {},
     "output_type": "execute_result"
    }
   ],
   "source": [
    "all_df.honorific.value_counts()"
   ]
  },
  {
   "cell_type": "code",
   "execution_count": 43,
   "metadata": {
    "executionInfo": {
     "elapsed": 20,
     "status": "ok",
     "timestamp": 1634570898339,
     "user": {
      "displayName": "Nao S",
      "photoUrl": "https://lh3.googleusercontent.com/a/default-user=s64",
      "userId": "18027365817574858301"
     },
     "user_tz": -540
    },
    "id": "1wzGx9ihwW5P"
   },
   "outputs": [],
   "source": [
    "all_df['Embarked'].fillna('missing',inplace=True)"
   ]
  },
  {
   "cell_type": "code",
   "execution_count": 44,
   "metadata": {
    "executionInfo": {
     "elapsed": 20,
     "status": "ok",
     "timestamp": 1634570898339,
     "user": {
      "displayName": "Nao S",
      "photoUrl": "https://lh3.googleusercontent.com/a/default-user=s64",
      "userId": "18027365817574858301"
     },
     "user_tz": -540
    },
    "id": "XwES4I1BwW5S"
   },
   "outputs": [],
   "source": [
    "le=LabelEncoder()\n",
    "le=le.fit(all_df['Embarked'])\n",
    "all_df['Embarked']=le.transform(all_df['Embarked'])"
   ]
  },
  {
   "cell_type": "code",
   "execution_count": 45,
   "metadata": {
    "executionInfo": {
     "elapsed": 19,
     "status": "ok",
     "timestamp": 1634570898339,
     "user": {
      "displayName": "Nao S",
      "photoUrl": "https://lh3.googleusercontent.com/a/default-user=s64",
      "userId": "18027365817574858301"
     },
     "user_tz": -540
    },
    "id": "DtZQzwhSwW5a"
   },
   "outputs": [],
   "source": [
    "e=LabelEncoder()\n",
    "le=le.fit(all_df['Sex'])\n",
    "all_df['Sex']=le.transform(all_df['Sex'])"
   ]
  },
  {
   "cell_type": "code",
   "execution_count": 46,
   "metadata": {
    "executionInfo": {
     "elapsed": 19,
     "status": "ok",
     "timestamp": 1634570898339,
     "user": {
      "displayName": "Nao S",
      "photoUrl": "https://lh3.googleusercontent.com/a/default-user=s64",
      "userId": "18027365817574858301"
     },
     "user_tz": -540
    },
    "id": "CpLv9D7OwW5c"
   },
   "outputs": [],
   "source": [
    "e=LabelEncoder()\n",
    "le=le.fit(all_df['honorific'])\n",
    "all_df['honorific']=le.transform(all_df['honorific'])"
   ]
  },
  {
   "cell_type": "code",
   "execution_count": 47,
   "metadata": {
    "executionInfo": {
     "elapsed": 18,
     "status": "ok",
     "timestamp": 1634570898339,
     "user": {
      "displayName": "Nao S",
      "photoUrl": "https://lh3.googleusercontent.com/a/default-user=s64",
      "userId": "18027365817574858301"
     },
     "user_tz": -540
    },
    "id": "BgxaaNWgwW5c"
   },
   "outputs": [],
   "source": [
    "train_X=all_df[~all_df['Survived'].isnull()].drop('Survived',axis=1).reset_index(drop=True)\n",
    "train_Y=train_df['Survived']\n",
    "\n",
    "text_X=all_df[all_df['Survived'].isnull()].drop('Survived',axis=1).reset_index(drop=True)"
   ]
  },
  {
   "cell_type": "code",
   "execution_count": 48,
   "metadata": {
    "executionInfo": {
     "elapsed": 19,
     "status": "ok",
     "timestamp": 1634570898340,
     "user": {
      "displayName": "Nao S",
      "photoUrl": "https://lh3.googleusercontent.com/a/default-user=s64",
      "userId": "18027365817574858301"
     },
     "user_tz": -540
    },
    "id": "uoaKvgNVwW5d"
   },
   "outputs": [],
   "source": [
    "X_train,X_vaild,y_train,y_vaild=train_test_split(train_X,train_Y,test_size=0.2)"
   ]
  },
  {
   "cell_type": "code",
   "execution_count": 49,
   "metadata": {
    "executionInfo": {
     "elapsed": 19,
     "status": "ok",
     "timestamp": 1634570898340,
     "user": {
      "displayName": "Nao S",
      "photoUrl": "https://lh3.googleusercontent.com/a/default-user=s64",
      "userId": "18027365817574858301"
     },
     "user_tz": -540
    },
    "id": "34ogKztowW5d"
   },
   "outputs": [],
   "source": [
    "categories=['Embarked','Pclass','Sex','honorific','alone']"
   ]
  },
  {
   "cell_type": "code",
   "execution_count": 50,
   "metadata": {
    "executionInfo": {
     "elapsed": 19,
     "status": "ok",
     "timestamp": 1634570898340,
     "user": {
      "displayName": "Nao S",
      "photoUrl": "https://lh3.googleusercontent.com/a/default-user=s64",
      "userId": "18027365817574858301"
     },
     "user_tz": -540
    },
    "id": "yuySCb4zwW5d"
   },
   "outputs": [],
   "source": [
    "lgb_train=lgb.Dataset(X_train,y_train,categorical_feature=categories)\n",
    "lgb_eval=lgb.Dataset(X_vaild,y_vaild,categorical_feature=categories,reference=lgb_train)"
   ]
  },
  {
   "cell_type": "code",
   "execution_count": 51,
   "metadata": {
    "executionInfo": {
     "elapsed": 19,
     "status": "ok",
     "timestamp": 1634570898341,
     "user": {
      "displayName": "Nao S",
      "photoUrl": "https://lh3.googleusercontent.com/a/default-user=s64",
      "userId": "18027365817574858301"
     },
     "user_tz": -540
    },
    "id": "gf8YGNNIwW5d"
   },
   "outputs": [],
   "source": [
    "lgbm_params={\n",
    "    \"objective\":\"binary\",\n",
    "    \"random_seed\":1234\n",
    "}"
   ]
  },
  {
   "cell_type": "code",
   "execution_count": 52,
   "metadata": {
    "colab": {
     "base_uri": "https://localhost:8080/"
    },
    "executionInfo": {
     "elapsed": 19,
     "status": "ok",
     "timestamp": 1634570898341,
     "user": {
      "displayName": "Nao S",
      "photoUrl": "https://lh3.googleusercontent.com/a/default-user=s64",
      "userId": "18027365817574858301"
     },
     "user_tz": -540
    },
    "id": "wOs3YeaHwW5d",
    "outputId": "6a70d8db-dfb0-4c99-a576-270e2d28dce7"
   },
   "outputs": [
    {
     "name": "stdout",
     "output_type": "stream",
     "text": [
      "Training until validation scores don't improve for 20 rounds.\n",
      "[10]\tvalid_0's binary_logloss: 0.465597\n",
      "[20]\tvalid_0's binary_logloss: 0.42253\n",
      "[30]\tvalid_0's binary_logloss: 0.424173\n",
      "[40]\tvalid_0's binary_logloss: 0.438413\n",
      "Early stopping, best iteration is:\n",
      "[23]\tvalid_0's binary_logloss: 0.417458\n"
     ]
    },
    {
     "name": "stderr",
     "output_type": "stream",
     "text": [
      "/usr/local/lib/python3.7/dist-packages/lightgbm/basic.py:1205: UserWarning: Using categorical_feature in Dataset.\n",
      "  warnings.warn('Using categorical_feature in Dataset.')\n",
      "/usr/local/lib/python3.7/dist-packages/lightgbm/basic.py:762: UserWarning: categorical_feature in param dict is overridden.\n",
      "  warnings.warn('categorical_feature in param dict is overridden.')\n"
     ]
    }
   ],
   "source": [
    "model_lgb=lgb.train(lgbm_params,lgb_train,valid_sets=lgb_eval,num_boost_round=100,early_stopping_rounds=20,verbose_eval=10)"
   ]
  },
  {
   "cell_type": "code",
   "execution_count": 53,
   "metadata": {
    "colab": {
     "base_uri": "https://localhost:8080/"
    },
    "executionInfo": {
     "elapsed": 15,
     "status": "ok",
     "timestamp": 1634570898341,
     "user": {
      "displayName": "Nao S",
      "photoUrl": "https://lh3.googleusercontent.com/a/default-user=s64",
      "userId": "18027365817574858301"
     },
     "user_tz": -540
    },
    "id": "Hdc1a7wPwW5d",
    "outputId": "b081c681-a672-4970-8cf3-1fcc344b1737"
   },
   "outputs": [
    {
     "data": {
      "text/plain": [
       "array([ 32,  18, 203,  14,   9, 256,  26,   5,  19,   1])"
      ]
     },
     "execution_count": 53,
     "metadata": {},
     "output_type": "execute_result"
    }
   ],
   "source": [
    "model_lgb.feature_importance()"
   ]
  },
  {
   "cell_type": "code",
   "execution_count": 54,
   "metadata": {
    "colab": {
     "base_uri": "https://localhost:8080/",
     "height": 282
    },
    "executionInfo": {
     "elapsed": 13,
     "status": "ok",
     "timestamp": 1634570898342,
     "user": {
      "displayName": "Nao S",
      "photoUrl": "https://lh3.googleusercontent.com/a/default-user=s64",
      "userId": "18027365817574858301"
     },
     "user_tz": -540
    },
    "id": "pzA9cNY40q0l",
    "outputId": "c4cd4f28-5688-4737-998c-2b9ccec06583"
   },
   "outputs": [
    {
     "data": {
      "text/plain": [
       "<matplotlib.axes._subplots.AxesSubplot at 0x7f712947c690>"
      ]
     },
     "execution_count": 54,
     "metadata": {},
     "output_type": "execute_result"
    },
    {
     "data": {
      "image/png": "[encoded data removed]",
      "text/plain": [
       "<Figure size 432x288 with 1 Axes>"
      ]
     },
     "metadata": {},
     "output_type": "display_data"
    }
   ],
   "source": [
    "importance=pd.DataFrame(model_lgb.feature_importance(),index=X_train.columns,columns=['importance']).sort_values(by='importance',ascending=True)\n",
    "importance.plot.barh()"
   ]
  },
  {
   "cell_type": "code",
   "execution_count": 55,
   "metadata": {
    "executionInfo": {
     "elapsed": 607,
     "status": "ok",
     "timestamp": 1634570898939,
     "user": {
      "displayName": "Nao S",
      "photoUrl": "https://lh3.googleusercontent.com/a/default-user=s64",
      "userId": "18027365817574858301"
     },
     "user_tz": -540
    },
    "id": "PkGHpmnPwW5e"
   },
   "outputs": [],
   "source": [
    "y_pred=model_lgb.predict(X_vaild,num_iteration=model_lgb.best_iteration)"
   ]
  },
  {
   "cell_type": "code",
   "execution_count": 56,
   "metadata": {
    "colab": {
     "base_uri": "https://localhost:8080/"
    },
    "executionInfo": {
     "elapsed": 17,
     "status": "ok",
     "timestamp": 1634570898939,
     "user": {
      "displayName": "Nao S",
      "photoUrl": "https://lh3.googleusercontent.com/a/default-user=s64",
      "userId": "18027365817574858301"
     },
     "user_tz": -540
    },
    "id": "u6rLdOET5XLY",
    "outputId": "b2a6082c-615d-4a49-bcb0-fd771fbdc07b"
   },
   "outputs": [
    {
     "data": {
      "text/plain": [
       "0.8435754189944135"
      ]
     },
     "execution_count": 56,
     "metadata": {},
     "output_type": "execute_result"
    }
   ],
   "source": [
    "accuracy_score(y_vaild,np.round(y_pred))"
   ]
  },
  {
   "cell_type": "code",
   "execution_count": 57,
   "metadata": {
    "executionInfo": {
     "elapsed": 14,
     "status": "ok",
     "timestamp": 1634570898939,
     "user": {
      "displayName": "Nao S",
      "photoUrl": "https://lh3.googleusercontent.com/a/default-user=s64",
      "userId": "18027365817574858301"
     },
     "user_tz": -540
    },
    "id": "nJmW4MK55ZGJ"
   },
   "outputs": [],
   "source": [
    "lgbm_params={'objective':'binary',\n",
    "             'max_bin':331,\n",
    "             'num_levels':20,\n",
    "             'min_data_in_leaf':57,\n",
    "             'andom_seed':1234}"
   ]
  },
  {
   "cell_type": "code",
   "execution_count": 58,
   "metadata": {
    "executionInfo": {
     "elapsed": 14,
     "status": "ok",
     "timestamp": 1634570898940,
     "user": {
      "displayName": "Nao S",
      "photoUrl": "https://lh3.googleusercontent.com/a/default-user=s64",
      "userId": "18027365817574858301"
     },
     "user_tz": -540
    },
    "id": "YSeKIoE1yRxO"
   },
   "outputs": [],
   "source": [
    "lgb_train=lgb.Dataset(X_train,y_train,categorical_feature=categories)\n",
    "lgb_eval=lgb.Dataset(X_vaild,y_vaild,categorical_feature=categories,reference=lgb_train)"
   ]
  },
  {
   "cell_type": "code",
   "execution_count": 59,
   "metadata": {
    "colab": {
     "base_uri": "https://localhost:8080/"
    },
    "executionInfo": {
     "elapsed": 14,
     "status": "ok",
     "timestamp": 1634570898940,
     "user": {
      "displayName": "Nao S",
      "photoUrl": "https://lh3.googleusercontent.com/a/default-user=s64",
      "userId": "18027365817574858301"
     },
     "user_tz": -540
    },
    "id": "gY1QgQfIy5sZ",
    "outputId": "2cad1933-2726-413e-95bc-bf0b6ebde767"
   },
   "outputs": [
    {
     "name": "stdout",
     "output_type": "stream",
     "text": [
      "Training until validation scores don't improve for 20 rounds.\n",
      "[10]\tvalid_0's binary_logloss: 0.470659\n",
      "[20]\tvalid_0's binary_logloss: 0.425654\n",
      "[30]\tvalid_0's binary_logloss: 0.413748\n",
      "[40]\tvalid_0's binary_logloss: 0.410545\n",
      "[50]\tvalid_0's binary_logloss: 0.412232\n",
      "[60]\tvalid_0's binary_logloss: 0.407988\n",
      "[70]\tvalid_0's binary_logloss: 0.407494\n",
      "[80]\tvalid_0's binary_logloss: 0.410995\n",
      "[90]\tvalid_0's binary_logloss: 0.413203\n",
      "Early stopping, best iteration is:\n",
      "[73]\tvalid_0's binary_logloss: 0.406565\n"
     ]
    },
    {
     "name": "stderr",
     "output_type": "stream",
     "text": [
      "/usr/local/lib/python3.7/dist-packages/lightgbm/basic.py:1205: UserWarning: Using categorical_feature in Dataset.\n",
      "  warnings.warn('Using categorical_feature in Dataset.')\n",
      "/usr/local/lib/python3.7/dist-packages/lightgbm/basic.py:762: UserWarning: categorical_feature in param dict is overridden.\n",
      "  warnings.warn('categorical_feature in param dict is overridden.')\n"
     ]
    }
   ],
   "source": [
    "model_lgb=lgb.train(lgbm_params,\n",
    "                    lgb_train,\n",
    "                    valid_sets=lgb_eval,\n",
    "                    num_boost_round=100,\n",
    "                    early_stopping_rounds=20,                    verbose_eval=10)"
   ]
  },
  {
   "cell_type": "code",
   "execution_count": 60,
   "metadata": {
    "executionInfo": {
     "elapsed": 9,
     "status": "ok",
     "timestamp": 1634570898940,
     "user": {
      "displayName": "Nao S",
      "photoUrl": "https://lh3.googleusercontent.com/a/default-user=s64",
      "userId": "18027365817574858301"
     },
     "user_tz": -540
    },
    "id": "RVB60t0gzgZA"
   },
   "outputs": [],
   "source": [
    "y_pred=model_lgb.predict(X_vaild,num_iteration=model_lgb.best_iteration)"
   ]
  },
  {
   "cell_type": "code",
   "execution_count": 61,
   "metadata": {
    "colab": {
     "base_uri": "https://localhost:8080/"
    },
    "executionInfo": {
     "elapsed": 9,
     "status": "ok",
     "timestamp": 1634570898940,
     "user": {
      "displayName": "Nao S",
      "photoUrl": "https://lh3.googleusercontent.com/a/default-user=s64",
      "userId": "18027365817574858301"
     },
     "user_tz": -540
    },
    "id": "lWFZ2YpE2wb8",
    "outputId": "648d1f4f-02a2-4e32-b498-5d10b97e4a64"
   },
   "outputs": [
    {
     "data": {
      "text/plain": [
       "0.8491620111731844"
      ]
     },
     "execution_count": 61,
     "metadata": {},
     "output_type": "execute_result"
    }
   ],
   "source": [
    "accuracy_score(y_vaild,np.round(y_pred))"
   ]
  },
  {
   "cell_type": "code",
   "execution_count": 62,
   "metadata": {
    "executionInfo": {
     "elapsed": 7,
     "status": "ok",
     "timestamp": 1634570898941,
     "user": {
      "displayName": "Nao S",
      "photoUrl": "https://lh3.googleusercontent.com/a/default-user=s64",
      "userId": "18027365817574858301"
     },
     "user_tz": -540
    },
    "id": "mOPvfJQ326eA"
   },
   "outputs": [],
   "source": [
    "folds=3\n",
    "kf=KFold(n_splits=folds)"
   ]
  },
  {
   "cell_type": "code",
   "execution_count": 63,
   "metadata": {
    "colab": {
     "base_uri": "https://localhost:8080/"
    },
    "executionInfo": {
     "elapsed": 401,
     "status": "ok",
     "timestamp": 1634570899336,
     "user": {
      "displayName": "Nao S",
      "photoUrl": "https://lh3.googleusercontent.com/a/default-user=s64",
      "userId": "18027365817574858301"
     },
     "user_tz": -540
    },
    "id": "nDwHGq3C6RFj",
    "outputId": "667bb9d1-adee-4ed3-fcc9-c4811bd29fe9"
   },
   "outputs": [
    {
     "name": "stderr",
     "output_type": "stream",
     "text": [
      "/usr/local/lib/python3.7/dist-packages/lightgbm/basic.py:1205: UserWarning: Using categorical_feature in Dataset.\n",
      "  warnings.warn('Using categorical_feature in Dataset.')\n",
      "/usr/local/lib/python3.7/dist-packages/lightgbm/basic.py:762: UserWarning: categorical_feature in param dict is overridden.\n",
      "  warnings.warn('categorical_feature in param dict is overridden.')\n"
     ]
    },
    {
     "name": "stdout",
     "output_type": "stream",
     "text": [
      "Training until validation scores don't improve for 20 rounds.\n",
      "[10]\tvalid_0's binary_logloss: 0.503031\n",
      "[20]\tvalid_0's binary_logloss: 0.465863\n",
      "[30]\tvalid_0's binary_logloss: 0.454056\n",
      "[40]\tvalid_0's binary_logloss: 0.451228\n",
      "[50]\tvalid_0's binary_logloss: 0.44724\n",
      "[60]\tvalid_0's binary_logloss: 0.447342\n",
      "[70]\tvalid_0's binary_logloss: 0.450126\n",
      "Early stopping, best iteration is:\n",
      "[54]\tvalid_0's binary_logloss: 0.445648\n",
      "0.8249158249158249\n",
      "Training until validation scores don't improve for 20 rounds.\n",
      "[10]\tvalid_0's binary_logloss: 0.482264\n",
      "[20]\tvalid_0's binary_logloss: 0.440853\n",
      "[30]\tvalid_0's binary_logloss: 0.435016\n",
      "[40]\tvalid_0's binary_logloss: 0.433286\n",
      "[50]\tvalid_0's binary_logloss: 0.432128\n",
      "[60]\tvalid_0's binary_logloss: 0.430387\n",
      "[70]\tvalid_0's binary_logloss: 0.431241\n",
      "[80]\tvalid_0's binary_logloss: 0.438053\n",
      "Early stopping, best iteration is:\n",
      "[62]\tvalid_0's binary_logloss: 0.429561\n",
      "0.8181818181818182\n",
      "Training until validation scores don't improve for 20 rounds.\n",
      "[10]\tvalid_0's binary_logloss: 0.471854\n",
      "[20]\tvalid_0's binary_logloss: 0.412579\n",
      "[30]\tvalid_0's binary_logloss: 0.393023\n",
      "[40]\tvalid_0's binary_logloss: 0.385434\n",
      "[50]\tvalid_0's binary_logloss: 0.38159\n",
      "[60]\tvalid_0's binary_logloss: 0.378753\n",
      "[70]\tvalid_0's binary_logloss: 0.376992\n",
      "[80]\tvalid_0's binary_logloss: 0.375146\n",
      "[90]\tvalid_0's binary_logloss: 0.379274\n",
      "[100]\tvalid_0's binary_logloss: 0.381002\n",
      "Early stopping, best iteration is:\n",
      "[80]\tvalid_0's binary_logloss: 0.375146\n",
      "0.8282828282828283\n"
     ]
    }
   ],
   "source": [
    "models=[]\n",
    "for train_index,val_index in kf.split(train_X):\n",
    "  X_train=train_X.iloc[train_index]\n",
    "  X_vaild=train_X.iloc[val_index]\n",
    "  y_train=train_Y.iloc[train_index]\n",
    "  y_vaild=train_Y.iloc[val_index]\n",
    "\n",
    "  lgb_train=lgb.Dataset(X_train,y_train,categorical_feature=categories)\n",
    "  lgb_eval=lgb.Dataset(X_vaild,y_vaild,categorical_feature=categories,reference=lgb_train)\n",
    "  model_lgb=lgb.train(lgbm_params,lgb_train,valid_sets=lgb_eval,num_boost_round=100,early_stopping_rounds=20,verbose_eval=10)\n",
    "  y_pred=model_lgb.predict(X_vaild,num_iteration=model_lgb.best_iteration)\n",
    "  print(accuracy_score(y_vaild,np.round(y_pred)))\n",
    "  models.append(model_lgb)"
   ]
  },
  {
   "cell_type": "code",
   "execution_count": 64,
   "metadata": {
    "executionInfo": {
     "elapsed": 7,
     "status": "ok",
     "timestamp": 1634570899337,
     "user": {
      "displayName": "Nao S",
      "photoUrl": "https://lh3.googleusercontent.com/a/default-user=s64",
      "userId": "18027365817574858301"
     },
     "user_tz": -540
    },
    "id": "VuvOvsR98GYZ"
   },
   "outputs": [],
   "source": [
    "preds=[]\n",
    "\n",
    "for model in models:\n",
    "  pred=model.predict(text_X)\n",
    "  preds.append(pred)"
   ]
  },
  {
   "cell_type": "code",
   "execution_count": 65,
   "metadata": {
    "executionInfo": {
     "elapsed": 6,
     "status": "ok",
     "timestamp": 1634570899337,
     "user": {
      "displayName": "Nao S",
      "photoUrl": "https://lh3.googleusercontent.com/a/default-user=s64",
      "userId": "18027365817574858301"
     },
     "user_tz": -540
    },
    "id": "n_um_mWx-N20"
   },
   "outputs": [],
   "source": [
    "preds_array=np.array(preds)\n",
    "preds_mean=np.mean(preds_array,axis=0)"
   ]
  },
  {
   "cell_type": "code",
   "execution_count": 66,
   "metadata": {
    "executionInfo": {
     "elapsed": 8,
     "status": "ok",
     "timestamp": 1634570899339,
     "user": {
      "displayName": "Nao S",
      "photoUrl": "https://lh3.googleusercontent.com/a/default-user=s64",
      "userId": "18027365817574858301"
     },
     "user_tz": -540
    },
    "id": "iPzaSkMQ_v36"
   },
   "outputs": [],
   "source": [
    "preds_int=(preds_mean>0.5).astype(int)"
   ]
  },
  {
   "cell_type": "code",
   "execution_count": 67,
   "metadata": {
    "executionInfo": {
     "elapsed": 9,
     "status": "ok",
     "timestamp": 1634570899340,
     "user": {
      "displayName": "Nao S",
      "photoUrl": "https://lh3.googleusercontent.com/a/default-user=s64",
      "userId": "18027365817574858301"
     },
     "user_tz": -540
    },
    "id": "F97dRoyB_7jZ"
   },
   "outputs": [],
   "source": [
    "submission['Survived']=preds_int"
   ]
  },
  {
   "cell_type": "code",
   "execution_count": 68,
   "metadata": {
    "colab": {
     "base_uri": "https://localhost:8080/",
     "height": 419
    },
    "executionInfo": {
     "elapsed": 8,
     "status": "ok",
     "timestamp": 1634570899340,
     "user": {
      "displayName": "Nao S",
      "photoUrl": "https://lh3.googleusercontent.com/a/default-user=s64",
      "userId": "18027365817574858301"
     },
     "user_tz": -540
    },
    "id": "lD-BX6oaADch",
    "outputId": "1c5ce670-0b83-4b36-95c5-8042c607ba08"
   },
   "outputs": [
    {
     "data": {
      "text/html": [
       "<div>\n",
       "<style scoped>\n",
       "    .dataframe tbody tr th:only-of-type {\n",
       "        vertical-align: middle;\n",
       "    }\n",
       "\n",
       "    .dataframe tbody tr th {\n",
       "        vertical-align: top;\n",
       "    }\n",
       "\n",
       "    .dataframe thead th {\n",
       "        text-align: right;\n",
       "    }\n",
       "</style>\n",
       "<table border=\"1\" class=\"dataframe\">\n",
       "  <thead>\n",
       "    <tr style=\"text-align: right;\">\n",
       "      <th></th>\n",
       "      <th>PassengerId</th>\n",
       "      <th>Survived</th>\n",
       "    </tr>\n",
       "  </thead>\n",
       "  <tbody>\n",
       "    <tr>\n",
       "      <th>0</th>\n",
       "      <td>892</td>\n",
       "      <td>0</td>\n",
       "    </tr>\n",
       "    <tr>\n",
       "      <th>1</th>\n",
       "      <td>893</td>\n",
       "      <td>0</td>\n",
       "    </tr>\n",
       "    <tr>\n",
       "      <th>2</th>\n",
       "      <td>894</td>\n",
       "      <td>0</td>\n",
       "    </tr>\n",
       "    <tr>\n",
       "      <th>3</th>\n",
       "      <td>895</td>\n",
       "      <td>0</td>\n",
       "    </tr>\n",
       "    <tr>\n",
       "      <th>4</th>\n",
       "      <td>896</td>\n",
       "      <td>1</td>\n",
       "    </tr>\n",
       "    <tr>\n",
       "      <th>...</th>\n",
       "      <td>...</td>\n",
       "      <td>...</td>\n",
       "    </tr>\n",
       "    <tr>\n",
       "      <th>413</th>\n",
       "      <td>1305</td>\n",
       "      <td>0</td>\n",
       "    </tr>\n",
       "    <tr>\n",
       "      <th>414</th>\n",
       "      <td>1306</td>\n",
       "      <td>1</td>\n",
       "    </tr>\n",
       "    <tr>\n",
       "      <th>415</th>\n",
       "      <td>1307</td>\n",
       "      <td>0</td>\n",
       "    </tr>\n",
       "    <tr>\n",
       "      <th>416</th>\n",
       "      <td>1308</td>\n",
       "      <td>0</td>\n",
       "    </tr>\n",
       "    <tr>\n",
       "      <th>417</th>\n",
       "      <td>1309</td>\n",
       "      <td>1</td>\n",
       "    </tr>\n",
       "  </tbody>\n",
       "</table>\n",
       "<p>418 rows × 2 columns</p>\n",
       "</div>"
      ],
      "text/plain": [
       "     PassengerId  Survived\n",
       "0            892         0\n",
       "1            893         0\n",
       "2            894         0\n",
       "3            895         0\n",
       "4            896         1\n",
       "..           ...       ...\n",
       "413         1305         0\n",
       "414         1306         1\n",
       "415         1307         0\n",
       "416         1308         0\n",
       "417         1309         1\n",
       "\n",
       "[418 rows x 2 columns]"
      ]
     },
     "execution_count": 68,
     "metadata": {},
     "output_type": "execute_result"
    }
   ],
   "source": [
    "submission"
   ]
  },
  {
   "cell_type": "code",
   "execution_count": 69,
   "metadata": {
    "executionInfo": {
     "elapsed": 358,
     "status": "ok",
     "timestamp": 1634570899690,
     "user": {
      "displayName": "Nao S",
      "photoUrl": "https://lh3.googleusercontent.com/a/default-user=s64",
      "userId": "18027365817574858301"
     },
     "user_tz": -540
    },
    "id": "XZNuCoY4AU1w"
   },
   "outputs": [],
   "source": [
    "submission.to_csv('/content/drive/MyDrive/titanic_com/submit/titanic_submit01.csv',index=False)"
   ]
  },
  {
   "cell_type": "code",
   "execution_count": 70,
   "metadata": {
    "colab": {
     "base_uri": "https://localhost:8080/",
     "height": 279
    },
    "executionInfo": {
     "elapsed": 693,
     "status": "ok",
     "timestamp": 1634570900371,
     "user": {
      "displayName": "Nao S",
      "photoUrl": "https://lh3.googleusercontent.com/a/default-user=s64",
      "userId": "18027365817574858301"
     },
     "user_tz": -540
    },
    "id": "hGh6EXJaAxIS",
    "outputId": "0a2936f5-b953-4edf-e216-9736368a11b8"
   },
   "outputs": [
    {
     "data": {
      "text/plain": [
       "<matplotlib.axes._subplots.AxesSubplot at 0x7f7128a874d0>"
      ]
     },
     "execution_count": 70,
     "metadata": {},
     "output_type": "execute_result"
    },
    {
     "data": {
      "image/png": "[encoded data removed]",
      "text/plain": [
       "<Figure size 432x288 with 1 Axes>"
      ]
     },
     "metadata": {},
     "output_type": "display_data"
    }
   ],
   "source": [
    "all_df.Pclass.value_counts()\n",
    "all_df.Pclass.value_counts().plot.bar()"
   ]
  },
  {
   "cell_type": "code",
   "execution_count": 71,
   "metadata": {
    "colab": {
     "base_uri": "https://localhost:8080/",
     "height": 204
    },
    "executionInfo": {
     "elapsed": 24,
     "status": "ok",
     "timestamp": 1634570900380,
     "user": {
      "displayName": "Nao S",
      "photoUrl": "https://lh3.googleusercontent.com/a/default-user=s64",
      "userId": "18027365817574858301"
     },
     "user_tz": -540
    },
    "id": "j1kc7Ew0F8Zn",
    "outputId": "818da472-1a79-4682-a0b5-507fbdd91ddf"
   },
   "outputs": [
    {
     "data": {
      "text/html": [
       "<div>\n",
       "<style scoped>\n",
       "    .dataframe tbody tr th:only-of-type {\n",
       "        vertical-align: middle;\n",
       "    }\n",
       "\n",
       "    .dataframe tbody tr th {\n",
       "        vertical-align: top;\n",
       "    }\n",
       "\n",
       "    .dataframe thead tr th {\n",
       "        text-align: left;\n",
       "    }\n",
       "\n",
       "    .dataframe thead tr:last-of-type th {\n",
       "        text-align: right;\n",
       "    }\n",
       "</style>\n",
       "<table border=\"1\" class=\"dataframe\">\n",
       "  <thead>\n",
       "    <tr>\n",
       "      <th></th>\n",
       "      <th colspan=\"8\" halign=\"left\">Fare</th>\n",
       "    </tr>\n",
       "    <tr>\n",
       "      <th></th>\n",
       "      <th>count</th>\n",
       "      <th>mean</th>\n",
       "      <th>std</th>\n",
       "      <th>min</th>\n",
       "      <th>25%</th>\n",
       "      <th>50%</th>\n",
       "      <th>75%</th>\n",
       "      <th>max</th>\n",
       "    </tr>\n",
       "    <tr>\n",
       "      <th>Pclass</th>\n",
       "      <th></th>\n",
       "      <th></th>\n",
       "      <th></th>\n",
       "      <th></th>\n",
       "      <th></th>\n",
       "      <th></th>\n",
       "      <th></th>\n",
       "      <th></th>\n",
       "    </tr>\n",
       "  </thead>\n",
       "  <tbody>\n",
       "    <tr>\n",
       "      <th>1</th>\n",
       "      <td>323.0</td>\n",
       "      <td>87.508992</td>\n",
       "      <td>80.447178</td>\n",
       "      <td>0.0</td>\n",
       "      <td>30.6958</td>\n",
       "      <td>60.0000</td>\n",
       "      <td>107.6625</td>\n",
       "      <td>512.3292</td>\n",
       "    </tr>\n",
       "    <tr>\n",
       "      <th>2</th>\n",
       "      <td>277.0</td>\n",
       "      <td>21.179196</td>\n",
       "      <td>13.607122</td>\n",
       "      <td>0.0</td>\n",
       "      <td>13.0000</td>\n",
       "      <td>15.0458</td>\n",
       "      <td>26.0000</td>\n",
       "      <td>73.5000</td>\n",
       "    </tr>\n",
       "    <tr>\n",
       "      <th>3</th>\n",
       "      <td>709.0</td>\n",
       "      <td>13.302889</td>\n",
       "      <td>11.486238</td>\n",
       "      <td>0.0</td>\n",
       "      <td>7.7500</td>\n",
       "      <td>8.0500</td>\n",
       "      <td>15.2458</td>\n",
       "      <td>69.5500</td>\n",
       "    </tr>\n",
       "  </tbody>\n",
       "</table>\n",
       "</div>"
      ],
      "text/plain": [
       "         Fare                                                                 \n",
       "        count       mean        std  min      25%      50%       75%       max\n",
       "Pclass                                                                        \n",
       "1       323.0  87.508992  80.447178  0.0  30.6958  60.0000  107.6625  512.3292\n",
       "2       277.0  21.179196  13.607122  0.0  13.0000  15.0458   26.0000   73.5000\n",
       "3       709.0  13.302889  11.486238  0.0   7.7500   8.0500   15.2458   69.5500"
      ]
     },
     "execution_count": 71,
     "metadata": {},
     "output_type": "execute_result"
    }
   ],
   "source": [
    "all_df[['Pclass','Fare']].groupby('Pclass').describe()"
   ]
  },
  {
   "cell_type": "code",
   "execution_count": 72,
   "metadata": {
    "colab": {
     "base_uri": "https://localhost:8080/",
     "height": 354
    },
    "executionInfo": {
     "elapsed": 23,
     "status": "ok",
     "timestamp": 1634570900381,
     "user": {
      "displayName": "Nao S",
      "photoUrl": "https://lh3.googleusercontent.com/a/default-user=s64",
      "userId": "18027365817574858301"
     },
     "user_tz": -540
    },
    "id": "uYn-2rwzGmK7",
    "outputId": "0651247d-83f8-490e-feae-1771c9a4cede"
   },
   "outputs": [
    {
     "data": {
      "text/plain": [
       "<matplotlib.axes._subplots.AxesSubplot at 0x7f7128a6a610>"
      ]
     },
     "execution_count": 72,
     "metadata": {},
     "output_type": "execute_result"
    },
    {
     "data": {
      "image/png": "[encoded data removed]",
      "text/plain": [
       "<Figure size 432x360 with 1 Axes>"
      ]
     },
     "metadata": {},
     "output_type": "display_data"
    }
   ],
   "source": [
    "plt.figure(figsize=(6,5))\n",
    "sns.boxplot(x='Pclass',y='Fare',data=all_df)"
   ]
  },
  {
   "cell_type": "code",
   "execution_count": 73,
   "metadata": {
    "executionInfo": {
     "elapsed": 17,
     "status": "ok",
     "timestamp": 1634570900381,
     "user": {
      "displayName": "Nao S",
      "photoUrl": "https://lh3.googleusercontent.com/a/default-user=s64",
      "userId": "18027365817574858301"
     },
     "user_tz": -540
    },
    "id": "UFhoW0HHPOBl"
   },
   "outputs": [],
   "source": [
    "train_df=pd.read_csv('/content/drive/MyDrive/titanic_com/data/train.csv')\n",
    "test_df=pd.read_csv('/content/drive/MyDrive/titanic_com/data/test.csv')\n",
    "all_df=pd.concat([train_df,test_df],sort=False).reset_index(drop=True)"
   ]
  },
  {
   "cell_type": "code",
   "execution_count": 74,
   "metadata": {
    "executionInfo": {
     "elapsed": 18,
     "status": "ok",
     "timestamp": 1634570900382,
     "user": {
      "displayName": "Nao S",
      "photoUrl": "https://lh3.googleusercontent.com/a/default-user=s64",
      "userId": "18027365817574858301"
     },
     "user_tz": -540
    },
    "id": "3LKn61ZmG1V2"
   },
   "outputs": [],
   "source": [
    "all_df['Pclass2']=all_df['Pclass']"
   ]
  },
  {
   "cell_type": "code",
   "execution_count": 75,
   "metadata": {
    "colab": {
     "base_uri": "https://localhost:8080/",
     "height": 419
    },
    "executionInfo": {
     "elapsed": 17,
     "status": "ok",
     "timestamp": 1634570900382,
     "user": {
      "displayName": "Nao S",
      "photoUrl": "https://lh3.googleusercontent.com/a/default-user=s64",
      "userId": "18027365817574858301"
     },
     "user_tz": -540
    },
    "id": "fYqfjNXPHSm6",
    "outputId": "60d70a49-1fbd-4da9-fb49-1f2734b06be5"
   },
   "outputs": [
    {
     "data": {
      "text/html": [
       "<div>\n",
       "<style scoped>\n",
       "    .dataframe tbody tr th:only-of-type {\n",
       "        vertical-align: middle;\n",
       "    }\n",
       "\n",
       "    .dataframe tbody tr th {\n",
       "        vertical-align: top;\n",
       "    }\n",
       "\n",
       "    .dataframe thead th {\n",
       "        text-align: right;\n",
       "    }\n",
       "</style>\n",
       "<table border=\"1\" class=\"dataframe\">\n",
       "  <thead>\n",
       "    <tr style=\"text-align: right;\">\n",
       "      <th></th>\n",
       "      <th>PassengerId</th>\n",
       "      <th>Survived</th>\n",
       "      <th>Pclass</th>\n",
       "      <th>Name</th>\n",
       "      <th>Sex</th>\n",
       "      <th>Age</th>\n",
       "      <th>SibSp</th>\n",
       "      <th>Parch</th>\n",
       "      <th>Ticket</th>\n",
       "      <th>Fare</th>\n",
       "      <th>Cabin</th>\n",
       "      <th>Embarked</th>\n",
       "      <th>Pclass2</th>\n",
       "    </tr>\n",
       "  </thead>\n",
       "  <tbody>\n",
       "    <tr>\n",
       "      <th>27</th>\n",
       "      <td>28</td>\n",
       "      <td>0.0</td>\n",
       "      <td>1</td>\n",
       "      <td>Fortune, Mr. Charles Alexander</td>\n",
       "      <td>male</td>\n",
       "      <td>19.0</td>\n",
       "      <td>3</td>\n",
       "      <td>2</td>\n",
       "      <td>19950</td>\n",
       "      <td>263.0000</td>\n",
       "      <td>C23 C25 C27</td>\n",
       "      <td>S</td>\n",
       "      <td>0</td>\n",
       "    </tr>\n",
       "    <tr>\n",
       "      <th>31</th>\n",
       "      <td>32</td>\n",
       "      <td>1.0</td>\n",
       "      <td>1</td>\n",
       "      <td>Spencer, Mrs. William Augustus (Marie Eugenie)</td>\n",
       "      <td>female</td>\n",
       "      <td>NaN</td>\n",
       "      <td>1</td>\n",
       "      <td>0</td>\n",
       "      <td>PC 17569</td>\n",
       "      <td>146.5208</td>\n",
       "      <td>B78</td>\n",
       "      <td>C</td>\n",
       "      <td>0</td>\n",
       "    </tr>\n",
       "    <tr>\n",
       "      <th>88</th>\n",
       "      <td>89</td>\n",
       "      <td>1.0</td>\n",
       "      <td>1</td>\n",
       "      <td>Fortune, Miss. Mabel Helen</td>\n",
       "      <td>female</td>\n",
       "      <td>23.0</td>\n",
       "      <td>3</td>\n",
       "      <td>2</td>\n",
       "      <td>19950</td>\n",
       "      <td>263.0000</td>\n",
       "      <td>C23 C25 C27</td>\n",
       "      <td>S</td>\n",
       "      <td>0</td>\n",
       "    </tr>\n",
       "    <tr>\n",
       "      <th>118</th>\n",
       "      <td>119</td>\n",
       "      <td>0.0</td>\n",
       "      <td>1</td>\n",
       "      <td>Baxter, Mr. Quigg Edmond</td>\n",
       "      <td>male</td>\n",
       "      <td>24.0</td>\n",
       "      <td>0</td>\n",
       "      <td>1</td>\n",
       "      <td>PC 17558</td>\n",
       "      <td>247.5208</td>\n",
       "      <td>B58 B60</td>\n",
       "      <td>C</td>\n",
       "      <td>0</td>\n",
       "    </tr>\n",
       "    <tr>\n",
       "      <th>195</th>\n",
       "      <td>196</td>\n",
       "      <td>1.0</td>\n",
       "      <td>1</td>\n",
       "      <td>Lurette, Miss. Elise</td>\n",
       "      <td>female</td>\n",
       "      <td>58.0</td>\n",
       "      <td>0</td>\n",
       "      <td>0</td>\n",
       "      <td>PC 17569</td>\n",
       "      <td>146.5208</td>\n",
       "      <td>B80</td>\n",
       "      <td>C</td>\n",
       "      <td>0</td>\n",
       "    </tr>\n",
       "    <tr>\n",
       "      <th>...</th>\n",
       "      <td>...</td>\n",
       "      <td>...</td>\n",
       "      <td>...</td>\n",
       "      <td>...</td>\n",
       "      <td>...</td>\n",
       "      <td>...</td>\n",
       "      <td>...</td>\n",
       "      <td>...</td>\n",
       "      <td>...</td>\n",
       "      <td>...</td>\n",
       "      <td>...</td>\n",
       "      <td>...</td>\n",
       "      <td>...</td>\n",
       "    </tr>\n",
       "    <tr>\n",
       "      <th>1262</th>\n",
       "      <td>1263</td>\n",
       "      <td>NaN</td>\n",
       "      <td>1</td>\n",
       "      <td>Wilson, Miss. Helen Alice</td>\n",
       "      <td>female</td>\n",
       "      <td>31.0</td>\n",
       "      <td>0</td>\n",
       "      <td>0</td>\n",
       "      <td>16966</td>\n",
       "      <td>134.5000</td>\n",
       "      <td>E39 E41</td>\n",
       "      <td>C</td>\n",
       "      <td>0</td>\n",
       "    </tr>\n",
       "    <tr>\n",
       "      <th>1266</th>\n",
       "      <td>1267</td>\n",
       "      <td>NaN</td>\n",
       "      <td>1</td>\n",
       "      <td>Bowen, Miss. Grace Scott</td>\n",
       "      <td>female</td>\n",
       "      <td>45.0</td>\n",
       "      <td>0</td>\n",
       "      <td>0</td>\n",
       "      <td>PC 17608</td>\n",
       "      <td>262.3750</td>\n",
       "      <td>NaN</td>\n",
       "      <td>C</td>\n",
       "      <td>0</td>\n",
       "    </tr>\n",
       "    <tr>\n",
       "      <th>1291</th>\n",
       "      <td>1292</td>\n",
       "      <td>NaN</td>\n",
       "      <td>1</td>\n",
       "      <td>Bonnell, Miss. Caroline</td>\n",
       "      <td>female</td>\n",
       "      <td>30.0</td>\n",
       "      <td>0</td>\n",
       "      <td>0</td>\n",
       "      <td>36928</td>\n",
       "      <td>164.8667</td>\n",
       "      <td>C7</td>\n",
       "      <td>S</td>\n",
       "      <td>0</td>\n",
       "    </tr>\n",
       "    <tr>\n",
       "      <th>1298</th>\n",
       "      <td>1299</td>\n",
       "      <td>NaN</td>\n",
       "      <td>1</td>\n",
       "      <td>Widener, Mr. George Dunton</td>\n",
       "      <td>male</td>\n",
       "      <td>50.0</td>\n",
       "      <td>1</td>\n",
       "      <td>1</td>\n",
       "      <td>113503</td>\n",
       "      <td>211.5000</td>\n",
       "      <td>C80</td>\n",
       "      <td>C</td>\n",
       "      <td>0</td>\n",
       "    </tr>\n",
       "    <tr>\n",
       "      <th>1305</th>\n",
       "      <td>1306</td>\n",
       "      <td>NaN</td>\n",
       "      <td>1</td>\n",
       "      <td>Oliva y Ocana, Dona. Fermina</td>\n",
       "      <td>female</td>\n",
       "      <td>39.0</td>\n",
       "      <td>0</td>\n",
       "      <td>0</td>\n",
       "      <td>PC 17758</td>\n",
       "      <td>108.9000</td>\n",
       "      <td>C105</td>\n",
       "      <td>C</td>\n",
       "      <td>0</td>\n",
       "    </tr>\n",
       "  </tbody>\n",
       "</table>\n",
       "<p>81 rows × 13 columns</p>\n",
       "</div>"
      ],
      "text/plain": [
       "      PassengerId  Survived  Pclass  ...        Cabin Embarked  Pclass2\n",
       "27             28       0.0       1  ...  C23 C25 C27        S        0\n",
       "31             32       1.0       1  ...          B78        C        0\n",
       "88             89       1.0       1  ...  C23 C25 C27        S        0\n",
       "118           119       0.0       1  ...      B58 B60        C        0\n",
       "195           196       1.0       1  ...          B80        C        0\n",
       "...           ...       ...     ...  ...          ...      ...      ...\n",
       "1262         1263       NaN       1  ...      E39 E41        C        0\n",
       "1266         1267       NaN       1  ...          NaN        C        0\n",
       "1291         1292       NaN       1  ...           C7        S        0\n",
       "1298         1299       NaN       1  ...          C80        C        0\n",
       "1305         1306       NaN       1  ...         C105        C        0\n",
       "\n",
       "[81 rows x 13 columns]"
      ]
     },
     "execution_count": 75,
     "metadata": {},
     "output_type": "execute_result"
    }
   ],
   "source": [
    "all_df.loc[all_df['Fare']>108,'Pclass2']=0\n",
    "all_df[all_df['Pclass2']==0]"
   ]
  },
  {
   "cell_type": "code",
   "execution_count": 76,
   "metadata": {
    "colab": {
     "base_uri": "https://localhost:8080/",
     "height": 235
    },
    "executionInfo": {
     "elapsed": 17,
     "status": "ok",
     "timestamp": 1634570900382,
     "user": {
      "displayName": "Nao S",
      "photoUrl": "https://lh3.googleusercontent.com/a/default-user=s64",
      "userId": "18027365817574858301"
     },
     "user_tz": -540
    },
    "id": "gYkwN_0uHR2M",
    "outputId": "5ac2c6f8-c79e-4dbd-ff3f-776cbd94bed6"
   },
   "outputs": [
    {
     "data": {
      "text/html": [
       "<div>\n",
       "<style scoped>\n",
       "    .dataframe tbody tr th:only-of-type {\n",
       "        vertical-align: middle;\n",
       "    }\n",
       "\n",
       "    .dataframe tbody tr th {\n",
       "        vertical-align: top;\n",
       "    }\n",
       "\n",
       "    .dataframe thead tr th {\n",
       "        text-align: left;\n",
       "    }\n",
       "\n",
       "    .dataframe thead tr:last-of-type th {\n",
       "        text-align: right;\n",
       "    }\n",
       "</style>\n",
       "<table border=\"1\" class=\"dataframe\">\n",
       "  <thead>\n",
       "    <tr>\n",
       "      <th></th>\n",
       "      <th colspan=\"8\" halign=\"left\">Age</th>\n",
       "    </tr>\n",
       "    <tr>\n",
       "      <th></th>\n",
       "      <th>count</th>\n",
       "      <th>mean</th>\n",
       "      <th>std</th>\n",
       "      <th>min</th>\n",
       "      <th>25%</th>\n",
       "      <th>50%</th>\n",
       "      <th>75%</th>\n",
       "      <th>max</th>\n",
       "    </tr>\n",
       "    <tr>\n",
       "      <th>Pclass2</th>\n",
       "      <th></th>\n",
       "      <th></th>\n",
       "      <th></th>\n",
       "      <th></th>\n",
       "      <th></th>\n",
       "      <th></th>\n",
       "      <th></th>\n",
       "      <th></th>\n",
       "    </tr>\n",
       "  </thead>\n",
       "  <tbody>\n",
       "    <tr>\n",
       "      <th>0</th>\n",
       "      <td>76.0</td>\n",
       "      <td>35.242368</td>\n",
       "      <td>15.422162</td>\n",
       "      <td>0.92</td>\n",
       "      <td>24.0</td>\n",
       "      <td>35.0</td>\n",
       "      <td>45.50</td>\n",
       "      <td>67.0</td>\n",
       "    </tr>\n",
       "    <tr>\n",
       "      <th>1</th>\n",
       "      <td>208.0</td>\n",
       "      <td>40.591346</td>\n",
       "      <td>13.981486</td>\n",
       "      <td>4.00</td>\n",
       "      <td>30.0</td>\n",
       "      <td>40.5</td>\n",
       "      <td>50.25</td>\n",
       "      <td>80.0</td>\n",
       "    </tr>\n",
       "    <tr>\n",
       "      <th>2</th>\n",
       "      <td>261.0</td>\n",
       "      <td>29.506705</td>\n",
       "      <td>13.638627</td>\n",
       "      <td>0.67</td>\n",
       "      <td>22.0</td>\n",
       "      <td>29.0</td>\n",
       "      <td>36.00</td>\n",
       "      <td>70.0</td>\n",
       "    </tr>\n",
       "    <tr>\n",
       "      <th>3</th>\n",
       "      <td>501.0</td>\n",
       "      <td>24.816367</td>\n",
       "      <td>11.958202</td>\n",
       "      <td>0.17</td>\n",
       "      <td>18.0</td>\n",
       "      <td>24.0</td>\n",
       "      <td>32.00</td>\n",
       "      <td>74.0</td>\n",
       "    </tr>\n",
       "  </tbody>\n",
       "</table>\n",
       "</div>"
      ],
      "text/plain": [
       "           Age                                                     \n",
       "         count       mean        std   min   25%   50%    75%   max\n",
       "Pclass2                                                            \n",
       "0         76.0  35.242368  15.422162  0.92  24.0  35.0  45.50  67.0\n",
       "1        208.0  40.591346  13.981486  4.00  30.0  40.5  50.25  80.0\n",
       "2        261.0  29.506705  13.638627  0.67  22.0  29.0  36.00  70.0\n",
       "3        501.0  24.816367  11.958202  0.17  18.0  24.0  32.00  74.0"
      ]
     },
     "execution_count": 76,
     "metadata": {},
     "output_type": "execute_result"
    }
   ],
   "source": [
    "all_df[['Pclass2','Age']].groupby('Pclass2').describe()"
   ]
  },
  {
   "cell_type": "code",
   "execution_count": 77,
   "metadata": {
    "colab": {
     "base_uri": "https://localhost:8080/",
     "height": 354
    },
    "executionInfo": {
     "elapsed": 475,
     "status": "ok",
     "timestamp": 1634570900841,
     "user": {
      "displayName": "Nao S",
      "photoUrl": "https://lh3.googleusercontent.com/a/default-user=s64",
      "userId": "18027365817574858301"
     },
     "user_tz": -540
    },
    "id": "dxT4o5YiIA15",
    "outputId": "0609a918-ce7c-4384-d29f-75474cc0bff4"
   },
   "outputs": [
    {
     "data": {
      "text/plain": [
       "<matplotlib.axes._subplots.AxesSubplot at 0x7f71338d8810>"
      ]
     },
     "execution_count": 77,
     "metadata": {},
     "output_type": "execute_result"
    },
    {
     "data": {
      "image/png": "[encoded data removed]",
      "text/plain": [
       "<Figure size 432x360 with 1 Axes>"
      ]
     },
     "metadata": {},
     "output_type": "display_data"
    }
   ],
   "source": [
    "plt.figure(figsize=(6,5))\n",
    "sns.boxplot(x='Pclass2',y='Age',data=all_df)"
   ]
  },
  {
   "cell_type": "code",
   "execution_count": 78,
   "metadata": {
    "colab": {
     "base_uri": "https://localhost:8080/",
     "height": 235
    },
    "executionInfo": {
     "elapsed": 21,
     "status": "ok",
     "timestamp": 1634570900841,
     "user": {
      "displayName": "Nao S",
      "photoUrl": "https://lh3.googleusercontent.com/a/default-user=s64",
      "userId": "18027365817574858301"
     },
     "user_tz": -540
    },
    "id": "1nu2jX4bJzcf",
    "outputId": "cdb68093-ae7b-4c13-aced-a3415f1e2070"
   },
   "outputs": [
    {
     "data": {
      "text/html": [
       "<div>\n",
       "<style scoped>\n",
       "    .dataframe tbody tr th:only-of-type {\n",
       "        vertical-align: middle;\n",
       "    }\n",
       "\n",
       "    .dataframe tbody tr th {\n",
       "        vertical-align: top;\n",
       "    }\n",
       "\n",
       "    .dataframe thead tr th {\n",
       "        text-align: left;\n",
       "    }\n",
       "\n",
       "    .dataframe thead tr:last-of-type th {\n",
       "        text-align: right;\n",
       "    }\n",
       "</style>\n",
       "<table border=\"1\" class=\"dataframe\">\n",
       "  <thead>\n",
       "    <tr>\n",
       "      <th></th>\n",
       "      <th colspan=\"8\" halign=\"left\">Age</th>\n",
       "    </tr>\n",
       "    <tr>\n",
       "      <th></th>\n",
       "      <th>count</th>\n",
       "      <th>mean</th>\n",
       "      <th>std</th>\n",
       "      <th>min</th>\n",
       "      <th>25%</th>\n",
       "      <th>50%</th>\n",
       "      <th>75%</th>\n",
       "      <th>max</th>\n",
       "    </tr>\n",
       "    <tr>\n",
       "      <th>Pclass2</th>\n",
       "      <th></th>\n",
       "      <th></th>\n",
       "      <th></th>\n",
       "      <th></th>\n",
       "      <th></th>\n",
       "      <th></th>\n",
       "      <th></th>\n",
       "      <th></th>\n",
       "    </tr>\n",
       "  </thead>\n",
       "  <tbody>\n",
       "    <tr>\n",
       "      <th>0</th>\n",
       "      <td>69.0</td>\n",
       "      <td>37.920290</td>\n",
       "      <td>13.428357</td>\n",
       "      <td>17.0</td>\n",
       "      <td>27.0</td>\n",
       "      <td>36.0</td>\n",
       "      <td>48.0</td>\n",
       "      <td>67.0</td>\n",
       "    </tr>\n",
       "    <tr>\n",
       "      <th>1</th>\n",
       "      <td>207.0</td>\n",
       "      <td>40.768116</td>\n",
       "      <td>13.780416</td>\n",
       "      <td>16.0</td>\n",
       "      <td>30.0</td>\n",
       "      <td>41.0</td>\n",
       "      <td>50.5</td>\n",
       "      <td>80.0</td>\n",
       "    </tr>\n",
       "    <tr>\n",
       "      <th>2</th>\n",
       "      <td>233.0</td>\n",
       "      <td>32.369099</td>\n",
       "      <td>11.363367</td>\n",
       "      <td>16.0</td>\n",
       "      <td>24.0</td>\n",
       "      <td>30.0</td>\n",
       "      <td>39.0</td>\n",
       "      <td>70.0</td>\n",
       "    </tr>\n",
       "    <tr>\n",
       "      <th>3</th>\n",
       "      <td>422.0</td>\n",
       "      <td>28.200237</td>\n",
       "      <td>9.634512</td>\n",
       "      <td>16.0</td>\n",
       "      <td>21.0</td>\n",
       "      <td>26.0</td>\n",
       "      <td>33.0</td>\n",
       "      <td>74.0</td>\n",
       "    </tr>\n",
       "  </tbody>\n",
       "</table>\n",
       "</div>"
      ],
      "text/plain": [
       "           Age                                                    \n",
       "         count       mean        std   min   25%   50%   75%   max\n",
       "Pclass2                                                           \n",
       "0         69.0  37.920290  13.428357  17.0  27.0  36.0  48.0  67.0\n",
       "1        207.0  40.768116  13.780416  16.0  30.0  41.0  50.5  80.0\n",
       "2        233.0  32.369099  11.363367  16.0  24.0  30.0  39.0  70.0\n",
       "3        422.0  28.200237   9.634512  16.0  21.0  26.0  33.0  74.0"
      ]
     },
     "execution_count": 78,
     "metadata": {},
     "output_type": "execute_result"
    }
   ],
   "source": [
    "all_df[all_df['Age']>15][['Pclass2','Age']].groupby('Pclass2').describe()"
   ]
  },
  {
   "cell_type": "code",
   "execution_count": 79,
   "metadata": {
    "colab": {
     "base_uri": "https://localhost:8080/",
     "height": 354
    },
    "executionInfo": {
     "elapsed": 21,
     "status": "ok",
     "timestamp": 1634570900842,
     "user": {
      "displayName": "Nao S",
      "photoUrl": "https://lh3.googleusercontent.com/a/default-user=s64",
      "userId": "18027365817574858301"
     },
     "user_tz": -540
    },
    "id": "pX3YLv1VKXP-",
    "outputId": "e3439544-a2dc-4abb-df02-b28bd83f2270"
   },
   "outputs": [
    {
     "data": {
      "text/plain": [
       "<matplotlib.axes._subplots.AxesSubplot at 0x7f7128a87510>"
      ]
     },
     "execution_count": 79,
     "metadata": {},
     "output_type": "execute_result"
    },
    {
     "data": {
      "image/png": "[encoded data removed]",
      "text/plain": [
       "<Figure size 432x360 with 1 Axes>"
      ]
     },
     "metadata": {},
     "output_type": "display_data"
    }
   ],
   "source": [
    "plt.figure(figsize=(6,5))\n",
    "sns.boxplot(x='Pclass2',y='Age',data=all_df[all_df['Age']>15])"
   ]
  },
  {
   "cell_type": "code",
   "execution_count": 80,
   "metadata": {
    "colab": {
     "base_uri": "https://localhost:8080/",
     "height": 299
    },
    "executionInfo": {
     "elapsed": 504,
     "status": "ok",
     "timestamp": 1634570901330,
     "user": {
      "displayName": "Nao S",
      "photoUrl": "https://lh3.googleusercontent.com/a/default-user=s64",
      "userId": "18027365817574858301"
     },
     "user_tz": -540
    },
    "id": "MYm8iZC9KvQ8",
    "outputId": "a14b8486-231a-42e3-e7ac-0a02cb705aab"
   },
   "outputs": [
    {
     "data": {
      "text/plain": [
       "<matplotlib.axes._subplots.AxesSubplot at 0x7f71287e8350>"
      ]
     },
     "execution_count": 80,
     "metadata": {},
     "output_type": "execute_result"
    },
    {
     "data": {
      "image/png": "[encoded data removed]",
      "text/plain": [
       "<Figure size 432x288 with 1 Axes>"
      ]
     },
     "metadata": {},
     "output_type": "display_data"
    }
   ],
   "source": [
    "all_df.plot.scatter(x='Age',y='Fare',alpha=0.5)"
   ]
  },
  {
   "cell_type": "code",
   "execution_count": 81,
   "metadata": {
    "executionInfo": {
     "elapsed": 7,
     "status": "ok",
     "timestamp": 1634570901331,
     "user": {
      "displayName": "Nao S",
      "photoUrl": "https://lh3.googleusercontent.com/a/default-user=s64",
      "userId": "18027365817574858301"
     },
     "user_tz": -540
    },
    "id": "4TndPvSjLRxp"
   },
   "outputs": [],
   "source": [
    "all_df['familly_num']=all_df['SibSp']+all_df['Parch']"
   ]
  },
  {
   "cell_type": "code",
   "execution_count": 82,
   "metadata": {
    "colab": {
     "base_uri": "https://localhost:8080/",
     "height": 235
    },
    "executionInfo": {
     "elapsed": 6,
     "status": "ok",
     "timestamp": 1634570901331,
     "user": {
      "displayName": "Nao S",
      "photoUrl": "https://lh3.googleusercontent.com/a/default-user=s64",
      "userId": "18027365817574858301"
     },
     "user_tz": -540
    },
    "id": "kNRUPOE5LzBk",
    "outputId": "b1603ed0-e14b-48ea-c951-021ea0df3f36"
   },
   "outputs": [
    {
     "data": {
      "text/html": [
       "<div>\n",
       "<style scoped>\n",
       "    .dataframe tbody tr th:only-of-type {\n",
       "        vertical-align: middle;\n",
       "    }\n",
       "\n",
       "    .dataframe tbody tr th {\n",
       "        vertical-align: top;\n",
       "    }\n",
       "\n",
       "    .dataframe thead tr th {\n",
       "        text-align: left;\n",
       "    }\n",
       "\n",
       "    .dataframe thead tr:last-of-type th {\n",
       "        text-align: right;\n",
       "    }\n",
       "</style>\n",
       "<table border=\"1\" class=\"dataframe\">\n",
       "  <thead>\n",
       "    <tr>\n",
       "      <th></th>\n",
       "      <th colspan=\"8\" halign=\"left\">familly_num</th>\n",
       "    </tr>\n",
       "    <tr>\n",
       "      <th></th>\n",
       "      <th>count</th>\n",
       "      <th>mean</th>\n",
       "      <th>std</th>\n",
       "      <th>min</th>\n",
       "      <th>25%</th>\n",
       "      <th>50%</th>\n",
       "      <th>75%</th>\n",
       "      <th>max</th>\n",
       "    </tr>\n",
       "    <tr>\n",
       "      <th>Pclass2</th>\n",
       "      <th></th>\n",
       "      <th></th>\n",
       "      <th></th>\n",
       "      <th></th>\n",
       "      <th></th>\n",
       "      <th></th>\n",
       "      <th></th>\n",
       "      <th></th>\n",
       "    </tr>\n",
       "  </thead>\n",
       "  <tbody>\n",
       "    <tr>\n",
       "      <th>0</th>\n",
       "      <td>81.0</td>\n",
       "      <td>1.543210</td>\n",
       "      <td>1.541504</td>\n",
       "      <td>0.0</td>\n",
       "      <td>0.0</td>\n",
       "      <td>1.0</td>\n",
       "      <td>2.0</td>\n",
       "      <td>5.0</td>\n",
       "    </tr>\n",
       "    <tr>\n",
       "      <th>1</th>\n",
       "      <td>242.0</td>\n",
       "      <td>0.553719</td>\n",
       "      <td>0.687172</td>\n",
       "      <td>0.0</td>\n",
       "      <td>0.0</td>\n",
       "      <td>0.0</td>\n",
       "      <td>1.0</td>\n",
       "      <td>3.0</td>\n",
       "    </tr>\n",
       "    <tr>\n",
       "      <th>2</th>\n",
       "      <td>277.0</td>\n",
       "      <td>0.761733</td>\n",
       "      <td>1.029060</td>\n",
       "      <td>0.0</td>\n",
       "      <td>0.0</td>\n",
       "      <td>0.0</td>\n",
       "      <td>1.0</td>\n",
       "      <td>5.0</td>\n",
       "    </tr>\n",
       "    <tr>\n",
       "      <th>3</th>\n",
       "      <td>709.0</td>\n",
       "      <td>0.968970</td>\n",
       "      <td>1.921230</td>\n",
       "      <td>0.0</td>\n",
       "      <td>0.0</td>\n",
       "      <td>0.0</td>\n",
       "      <td>1.0</td>\n",
       "      <td>10.0</td>\n",
       "    </tr>\n",
       "  </tbody>\n",
       "</table>\n",
       "</div>"
      ],
      "text/plain": [
       "        familly_num                                              \n",
       "              count      mean       std  min  25%  50%  75%   max\n",
       "Pclass2                                                          \n",
       "0              81.0  1.543210  1.541504  0.0  0.0  1.0  2.0   5.0\n",
       "1             242.0  0.553719  0.687172  0.0  0.0  0.0  1.0   3.0\n",
       "2             277.0  0.761733  1.029060  0.0  0.0  0.0  1.0   5.0\n",
       "3             709.0  0.968970  1.921230  0.0  0.0  0.0  1.0  10.0"
      ]
     },
     "execution_count": 82,
     "metadata": {},
     "output_type": "execute_result"
    }
   ],
   "source": [
    "all_df[['Pclass2','familly_num']].groupby('Pclass2').describe()"
   ]
  },
  {
   "cell_type": "code",
   "execution_count": 83,
   "metadata": {
    "colab": {
     "base_uri": "https://localhost:8080/",
     "height": 354
    },
    "executionInfo": {
     "elapsed": 351,
     "status": "ok",
     "timestamp": 1634570901676,
     "user": {
      "displayName": "Nao S",
      "photoUrl": "https://lh3.googleusercontent.com/a/default-user=s64",
      "userId": "18027365817574858301"
     },
     "user_tz": -540
    },
    "id": "tHUBz9mfMDqK",
    "outputId": "5db3b91b-d164-4cd3-fbf1-95464741838a"
   },
   "outputs": [
    {
     "data": {
      "text/plain": [
       "<matplotlib.axes._subplots.AxesSubplot at 0x7f71287e8c10>"
      ]
     },
     "execution_count": 83,
     "metadata": {},
     "output_type": "execute_result"
    },
    {
     "data": {
      "image/png": "[encoded data removed]",
      "text/plain": [
       "<Figure size 432x360 with 1 Axes>"
      ]
     },
     "metadata": {},
     "output_type": "display_data"
    }
   ],
   "source": [
    "plt.figure(figsize=(6,5))\n",
    "sns.boxplot(x='Pclass2',y='familly_num',data=all_df)"
   ]
  },
  {
   "cell_type": "code",
   "execution_count": 84,
   "metadata": {
    "executionInfo": {
     "elapsed": 13,
     "status": "ok",
     "timestamp": 1634570901677,
     "user": {
      "displayName": "Nao S",
      "photoUrl": "https://lh3.googleusercontent.com/a/default-user=s64",
      "userId": "18027365817574858301"
     },
     "user_tz": -540
    },
    "id": "PvFjisTmMSUW"
   },
   "outputs": [],
   "source": [
    "Pclass_gender_df=all_df[['Pclass2','Sex','PassengerId',]].dropna().groupby(['Pclass2','Sex']).count().unstack()"
   ]
  },
  {
   "cell_type": "code",
   "execution_count": 85,
   "metadata": {
    "colab": {
     "base_uri": "https://localhost:8080/",
     "height": 296
    },
    "executionInfo": {
     "elapsed": 12,
     "status": "ok",
     "timestamp": 1634570901677,
     "user": {
      "displayName": "Nao S",
      "photoUrl": "https://lh3.googleusercontent.com/a/default-user=s64",
      "userId": "18027365817574858301"
     },
     "user_tz": -540
    },
    "id": "H4C2ngBhP1v0",
    "outputId": "7d6dd478-46b1-49e7-82f1-eb83d9d1a31a"
   },
   "outputs": [
    {
     "data": {
      "text/plain": [
       "<matplotlib.axes._subplots.AxesSubplot at 0x7f71288760d0>"
      ]
     },
     "execution_count": 85,
     "metadata": {},
     "output_type": "execute_result"
    },
    {
     "data": {
      "image/png": "[encoded data removed]",
      "text/plain": [
       "<Figure size 432x288 with 1 Axes>"
      ]
     },
     "metadata": {},
     "output_type": "display_data"
    }
   ],
   "source": [
    "Pclass_gender_df.plot.bar(stacked=True)"
   ]
  },
  {
   "cell_type": "code",
   "execution_count": 86,
   "metadata": {
    "colab": {
     "base_uri": "https://localhost:8080/",
     "height": 235
    },
    "executionInfo": {
     "elapsed": 494,
     "status": "ok",
     "timestamp": 1634570902163,
     "user": {
      "displayName": "Nao S",
      "photoUrl": "https://lh3.googleusercontent.com/a/default-user=s64",
      "userId": "18027365817574858301"
     },
     "user_tz": -540
    },
    "id": "3DPLJl37NU9l",
    "outputId": "34624520-11f5-448b-86c3-3d629a9e99c9"
   },
   "outputs": [
    {
     "data": {
      "text/html": [
       "<div>\n",
       "<style scoped>\n",
       "    .dataframe tbody tr th:only-of-type {\n",
       "        vertical-align: middle;\n",
       "    }\n",
       "\n",
       "    .dataframe tbody tr th {\n",
       "        vertical-align: top;\n",
       "    }\n",
       "\n",
       "    .dataframe thead tr th {\n",
       "        text-align: left;\n",
       "    }\n",
       "\n",
       "    .dataframe thead tr:last-of-type th {\n",
       "        text-align: right;\n",
       "    }\n",
       "</style>\n",
       "<table border=\"1\" class=\"dataframe\">\n",
       "  <thead>\n",
       "    <tr>\n",
       "      <th></th>\n",
       "      <th colspan=\"2\" halign=\"left\">PassengerId</th>\n",
       "    </tr>\n",
       "    <tr>\n",
       "      <th>Sex</th>\n",
       "      <th>female</th>\n",
       "      <th>male</th>\n",
       "    </tr>\n",
       "    <tr>\n",
       "      <th>Pclass2</th>\n",
       "      <th></th>\n",
       "      <th></th>\n",
       "    </tr>\n",
       "  </thead>\n",
       "  <tbody>\n",
       "    <tr>\n",
       "      <th>0</th>\n",
       "      <td>51</td>\n",
       "      <td>30</td>\n",
       "    </tr>\n",
       "    <tr>\n",
       "      <th>1</th>\n",
       "      <td>93</td>\n",
       "      <td>149</td>\n",
       "    </tr>\n",
       "    <tr>\n",
       "      <th>2</th>\n",
       "      <td>106</td>\n",
       "      <td>171</td>\n",
       "    </tr>\n",
       "    <tr>\n",
       "      <th>3</th>\n",
       "      <td>216</td>\n",
       "      <td>493</td>\n",
       "    </tr>\n",
       "  </tbody>\n",
       "</table>\n",
       "</div>"
      ],
      "text/plain": [
       "        PassengerId     \n",
       "Sex          female male\n",
       "Pclass2                 \n",
       "0                51   30\n",
       "1                93  149\n",
       "2               106  171\n",
       "3               216  493"
      ]
     },
     "execution_count": 86,
     "metadata": {},
     "output_type": "execute_result"
    }
   ],
   "source": [
    "Pclass_gender_df"
   ]
  },
  {
   "cell_type": "code",
   "execution_count": 87,
   "metadata": {
    "executionInfo": {
     "elapsed": 7,
     "status": "ok",
     "timestamp": 1634570902163,
     "user": {
      "displayName": "Nao S",
      "photoUrl": "https://lh3.googleusercontent.com/a/default-user=s64",
      "userId": "18027365817574858301"
     },
     "user_tz": -540
    },
    "id": "9pN0meRORPw3"
   },
   "outputs": [],
   "source": [
    "pclass_emb_df=all_df[['Pclass2','Embarked','PassengerId']].dropna().groupby(['Pclass2','Embarked']).count().unstack()"
   ]
  },
  {
   "cell_type": "code",
   "execution_count": 88,
   "metadata": {
    "executionInfo": {
     "elapsed": 7,
     "status": "ok",
     "timestamp": 1634570902163,
     "user": {
      "displayName": "Nao S",
      "photoUrl": "https://lh3.googleusercontent.com/a/default-user=s64",
      "userId": "18027365817574858301"
     },
     "user_tz": -540
    },
    "id": "PDPaL_9-OFTy"
   },
   "outputs": [],
   "source": [
    "pclass_emb_df=pclass_emb_df.fillna(0)"
   ]
  },
  {
   "cell_type": "code",
   "execution_count": 89,
   "metadata": {
    "colab": {
     "base_uri": "https://localhost:8080/",
     "height": 296
    },
    "executionInfo": {
     "elapsed": 7,
     "status": "ok",
     "timestamp": 1634570902164,
     "user": {
      "displayName": "Nao S",
      "photoUrl": "https://lh3.googleusercontent.com/a/default-user=s64",
      "userId": "18027365817574858301"
     },
     "user_tz": -540
    },
    "id": "8anjTGFhRt99",
    "outputId": "6ef1595a-fdf7-4cd5-91bf-1ba81468b0a4"
   },
   "outputs": [
    {
     "data": {
      "text/plain": [
       "<matplotlib.axes._subplots.AxesSubplot at 0x7f71285f1b90>"
      ]
     },
     "execution_count": 89,
     "metadata": {},
     "output_type": "execute_result"
    },
    {
     "data": {
      "image/png": "[encoded data removed]",
      "text/plain": [
       "<Figure size 432x288 with 1 Axes>"
      ]
     },
     "metadata": {},
     "output_type": "display_data"
    }
   ],
   "source": [
    "pclass_emb_df.plot.bar(stacked=True)"
   ]
  },
  {
   "cell_type": "code",
   "execution_count": 95,
   "metadata": {
    "executionInfo": {
     "elapsed": 239,
     "status": "ok",
     "timestamp": 1634571022638,
     "user": {
      "displayName": "Nao S",
      "photoUrl": "https://lh3.googleusercontent.com/a/default-user=s64",
      "userId": "18027365817574858301"
     },
     "user_tz": -540
    },
    "id": "J3kh5MU5OP0G"
   },
   "outputs": [],
   "source": [
    "c_youg10=all_df[(all_df['Embarked']=='C')&(all_df['Age']//10==1)&(all_df['familly_num']==0)]"
   ]
  },
  {
   "cell_type": "code",
   "execution_count": 97,
   "metadata": {
    "executionInfo": {
     "elapsed": 676,
     "status": "ok",
     "timestamp": 1634571075415,
     "user": {
      "displayName": "Nao S",
      "photoUrl": "https://lh3.googleusercontent.com/a/default-user=s64",
      "userId": "18027365817574858301"
     },
     "user_tz": -540
    },
    "id": "toxHKt6aNh36"
   },
   "outputs": [],
   "source": [
    "c_youg20=all_df[(all_df['Embarked']=='C')&(all_df['Age']//10==2)&(all_df['familly_num']==0)]"
   ]
  },
  {
   "cell_type": "code",
   "execution_count": 100,
   "metadata": {
    "colab": {
     "base_uri": "https://localhost:8080/"
    },
    "executionInfo": {
     "elapsed": 241,
     "status": "ok",
     "timestamp": 1634571094156,
     "user": {
      "displayName": "Nao S",
      "photoUrl": "https://lh3.googleusercontent.com/a/default-user=s64",
      "userId": "18027365817574858301"
     },
     "user_tz": -540
    },
    "id": "eJVeLafhO6-O",
    "outputId": "460d79c5-bf47-4b49-bfe1-75ca825b61ad"
   },
   "outputs": [
    {
     "data": {
      "text/plain": [
       "31"
      ]
     },
     "execution_count": 100,
     "metadata": {},
     "output_type": "execute_result"
    }
   ],
   "source": [
    "len(c_youg20)"
   ]
  },
  {
   "cell_type": "code",
   "execution_count": 104,
   "metadata": {
    "colab": {
     "base_uri": "https://localhost:8080/",
     "height": 450
    },
    "executionInfo": {
     "elapsed": 867,
     "status": "error",
     "timestamp": 1634571370876,
     "user": {
      "displayName": "Nao S",
      "photoUrl": "https://lh3.googleusercontent.com/a/default-user=s64",
      "userId": "18027365817574858301"
     },
     "user_tz": -540
    },
    "id": "7ptR4XlrBRMj",
    "outputId": "e646e12a-7571-4ea5-efdd-457ffe6bc7b4"
   },
   "outputs": [
    {
     "ename": "NameError",
     "evalue": "ignored",
     "output_type": "error",
     "traceback": [
      "\u001b[0;31m---------------------------------------------------------------------------\u001b[0m",
      "\u001b[0;31mNameError\u001b[0m                                 Traceback (most recent call last)",
      "\u001b[0;32m<ipython-input-104-ce2e9f988fe4>\u001b[0m in \u001b[0;36m<module>\u001b[0;34m()\u001b[0m\n\u001b[1;32m      1\u001b[0m \u001b[0max\u001b[0m\u001b[0;34m=\u001b[0m\u001b[0mall_df\u001b[0m\u001b[0;34m.\u001b[0m\u001b[0mplot\u001b[0m\u001b[0;34m.\u001b[0m\u001b[0mscatter\u001b[0m\u001b[0;34m(\u001b[0m\u001b[0mx\u001b[0m\u001b[0;34m=\u001b[0m\u001b[0;34m'Age'\u001b[0m\u001b[0;34m,\u001b[0m\u001b[0my\u001b[0m\u001b[0;34m=\u001b[0m\u001b[0;34m'Fare'\u001b[0m\u001b[0;34m,\u001b[0m\u001b[0malpha\u001b[0m\u001b[0;34m=\u001b[0m\u001b[0;36m0.5\u001b[0m\u001b[0;34m)\u001b[0m\u001b[0;34m\u001b[0m\u001b[0;34m\u001b[0m\u001b[0m\n\u001b[0;32m----> 2\u001b[0;31m \u001b[0mc_youg10\u001b[0m\u001b[0;34m=\u001b[0m\u001b[0mplot\u001b[0m\u001b[0;34m.\u001b[0m\u001b[0mscatter\u001b[0m\u001b[0;34m(\u001b[0m\u001b[0mx\u001b[0m\u001b[0;34m=\u001b[0m\u001b[0;34m'Age'\u001b[0m\u001b[0;34m,\u001b[0m\u001b[0my\u001b[0m\u001b[0;34m=\u001b[0m\u001b[0;34m'Fare'\u001b[0m\u001b[0;34m,\u001b[0m\u001b[0mcolor\u001b[0m\u001b[0;34m=\u001b[0m\u001b[0;34m'red'\u001b[0m\u001b[0;34m,\u001b[0m\u001b[0malpha\u001b[0m\u001b[0;34m=\u001b[0m\u001b[0;36m0.5\u001b[0m\u001b[0;34m,\u001b[0m\u001b[0max\u001b[0m\u001b[0;34m=\u001b[0m\u001b[0max\u001b[0m\u001b[0;34m)\u001b[0m\u001b[0;34m\u001b[0m\u001b[0;34m\u001b[0m\u001b[0m\n\u001b[0m",
      "\u001b[0;31mNameError\u001b[0m: name 'plot' is not defined"
     ]
    },
    {
     "data": {
      "image/png": "[encoded data removed]",
      "text/plain": [
       "<Figure size 432x288 with 1 Axes>"
      ]
     },
     "metadata": {},
     "output_type": "display_data"
    }
   ],
   "source": [
    "ax=all_df.plot.scatter(x='Age',y='Fare',alpha=0.5)\n",
    "c_youg10=plot.scatter(x='Age',y='Fare',color='red',alpha=0.5,ax=ax)"
   ]
  },
  {
   "cell_type": "code",
   "execution_count": 105,
   "metadata": {
    "colab": {
     "base_uri": "https://localhost:8080/",
     "height": 450
    },
    "executionInfo": {
     "elapsed": 949,
     "status": "error",
     "timestamp": 1634571383891,
     "user": {
      "displayName": "Nao S",
      "photoUrl": "https://lh3.googleusercontent.com/a/default-user=s64",
      "userId": "18027365817574858301"
     },
     "user_tz": -540
    },
    "id": "4D3d3bINCgr1",
    "outputId": "90a56e6c-c929-41fd-b437-aba7287c6d57"
   },
   "outputs": [
    {
     "ename": "NameError",
     "evalue": "ignored",
     "output_type": "error",
     "traceback": [
      "\u001b[0;31m---------------------------------------------------------------------------\u001b[0m",
      "\u001b[0;31mNameError\u001b[0m                                 Traceback (most recent call last)",
      "\u001b[0;32m<ipython-input-105-7c2d8d39be4e>\u001b[0m in \u001b[0;36m<module>\u001b[0;34m()\u001b[0m\n\u001b[1;32m      1\u001b[0m \u001b[0max\u001b[0m\u001b[0;34m=\u001b[0m\u001b[0mall_df\u001b[0m\u001b[0;34m[\u001b[0m\u001b[0mall_df\u001b[0m\u001b[0;34m[\u001b[0m\u001b[0;34m'familly_num'\u001b[0m\u001b[0;34m]\u001b[0m\u001b[0;34m==\u001b[0m\u001b[0;36m0\u001b[0m\u001b[0;34m]\u001b[0m\u001b[0;34m.\u001b[0m\u001b[0mplot\u001b[0m\u001b[0;34m.\u001b[0m\u001b[0mscatter\u001b[0m\u001b[0;34m(\u001b[0m\u001b[0mx\u001b[0m\u001b[0;34m=\u001b[0m\u001b[0;34m'Age'\u001b[0m\u001b[0;34m,\u001b[0m\u001b[0my\u001b[0m\u001b[0;34m=\u001b[0m\u001b[0;34m'Fare'\u001b[0m\u001b[0;34m,\u001b[0m\u001b[0malpha\u001b[0m\u001b[0;34m=\u001b[0m\u001b[0;36m0.5\u001b[0m\u001b[0;34m)\u001b[0m\u001b[0;34m\u001b[0m\u001b[0;34m\u001b[0m\u001b[0m\n\u001b[0;32m----> 2\u001b[0;31m \u001b[0mc_youg20\u001b[0m\u001b[0;34m=\u001b[0m\u001b[0mplot\u001b[0m\u001b[0;34m.\u001b[0m\u001b[0mscatter\u001b[0m\u001b[0;34m(\u001b[0m\u001b[0mx\u001b[0m\u001b[0;34m=\u001b[0m\u001b[0;34m'Age'\u001b[0m\u001b[0;34m,\u001b[0m\u001b[0my\u001b[0m\u001b[0;34m=\u001b[0m\u001b[0;34m'Fare'\u001b[0m\u001b[0;34m,\u001b[0m\u001b[0mcolor\u001b[0m\u001b[0;34m=\u001b[0m\u001b[0;34m'red'\u001b[0m\u001b[0;34m,\u001b[0m\u001b[0malpha\u001b[0m\u001b[0;34m=\u001b[0m\u001b[0;36m0.5\u001b[0m\u001b[0;34m,\u001b[0m\u001b[0max\u001b[0m\u001b[0;34m=\u001b[0m\u001b[0max\u001b[0m\u001b[0;34m)\u001b[0m\u001b[0;34m\u001b[0m\u001b[0;34m\u001b[0m\u001b[0m\n\u001b[0m",
      "\u001b[0;31mNameError\u001b[0m: name 'plot' is not defined"
     ]
    },
    {
     "data": {
      "image/png": "[encoded data removed]",
      "text/plain": [
       "<Figure size 432x288 with 1 Axes>"
      ]
     },
     "metadata": {},
     "output_type": "display_data"
    }
   ],
   "source": [
    "ax=all_df[all_df['familly_num']==0].plot.scatter(x='Age',y='Fare',alpha=0.5)\n",
    "c_youg20=plot.scatter(x='Age',y='Fare',color='red',alpha=0.5,ax=ax)"
   ]
  },
  {
   "cell_type": "code",
   "execution_count": 108,
   "metadata": {
    "colab": {
     "base_uri": "https://localhost:8080/",
     "height": 467
    },
    "executionInfo": {
     "elapsed": 776,
     "status": "error",
     "timestamp": 1634571585703,
     "user": {
      "displayName": "Nao S",
      "photoUrl": "https://lh3.googleusercontent.com/a/default-user=s64",
      "userId": "18027365817574858301"
     },
     "user_tz": -540
    },
    "id": "7CbsR4AwC0Yj",
    "outputId": "5a509582-8417-4c83-ec7b-cab688a347ad"
   },
   "outputs": [
    {
     "ename": "NameError",
     "evalue": "ignored",
     "output_type": "error",
     "traceback": [
      "\u001b[0;31m---------------------------------------------------------------------------\u001b[0m",
      "\u001b[0;31mNameError\u001b[0m                                 Traceback (most recent call last)",
      "\u001b[0;32m<ipython-input-108-e43b7a474e79>\u001b[0m in \u001b[0;36m<module>\u001b[0;34m()\u001b[0m\n\u001b[1;32m      1\u001b[0m \u001b[0mc_all\u001b[0m\u001b[0;34m=\u001b[0m\u001b[0mall_df\u001b[0m\u001b[0;34m[\u001b[0m\u001b[0;34m(\u001b[0m\u001b[0mall_df\u001b[0m\u001b[0;34m[\u001b[0m\u001b[0;34m'Embarked'\u001b[0m\u001b[0;34m]\u001b[0m\u001b[0;34m==\u001b[0m\u001b[0;34m'C'\u001b[0m\u001b[0;34m)\u001b[0m\u001b[0;34m]\u001b[0m\u001b[0;34m\u001b[0m\u001b[0;34m\u001b[0m\u001b[0m\n\u001b[1;32m      2\u001b[0m \u001b[0max\u001b[0m\u001b[0;34m=\u001b[0m\u001b[0mall_df\u001b[0m\u001b[0;34m.\u001b[0m\u001b[0mplot\u001b[0m\u001b[0;34m.\u001b[0m\u001b[0mscatter\u001b[0m\u001b[0;34m(\u001b[0m\u001b[0mx\u001b[0m\u001b[0;34m=\u001b[0m\u001b[0;34m'Age'\u001b[0m\u001b[0;34m,\u001b[0m\u001b[0my\u001b[0m\u001b[0;34m=\u001b[0m\u001b[0;34m'Fare'\u001b[0m\u001b[0;34m,\u001b[0m\u001b[0malpha\u001b[0m\u001b[0;34m=\u001b[0m\u001b[0;36m0.5\u001b[0m\u001b[0;34m)\u001b[0m\u001b[0;34m\u001b[0m\u001b[0;34m\u001b[0m\u001b[0m\n\u001b[0;32m----> 3\u001b[0;31m \u001b[0mc_all\u001b[0m\u001b[0;34m=\u001b[0m\u001b[0mplot\u001b[0m\u001b[0;34m.\u001b[0m\u001b[0mscatter\u001b[0m\u001b[0;34m(\u001b[0m\u001b[0mx\u001b[0m\u001b[0;34m=\u001b[0m\u001b[0;34m'Age'\u001b[0m\u001b[0;34m,\u001b[0m\u001b[0my\u001b[0m\u001b[0;34m=\u001b[0m\u001b[0;34m'Fare'\u001b[0m\u001b[0;34m,\u001b[0m\u001b[0mcolor\u001b[0m\u001b[0;34m=\u001b[0m\u001b[0;34m\"green\"\u001b[0m\u001b[0;34m,\u001b[0m\u001b[0malpha\u001b[0m\u001b[0;34m=\u001b[0m\u001b[0;36m0.5\u001b[0m\u001b[0;34m,\u001b[0m\u001b[0max\u001b[0m\u001b[0;34m=\u001b[0m\u001b[0max\u001b[0m\u001b[0;34m)\u001b[0m\u001b[0;34m\u001b[0m\u001b[0;34m\u001b[0m\u001b[0m\n\u001b[0m",
      "\u001b[0;31mNameError\u001b[0m: name 'plot' is not defined"
     ]
    },
    {
     "data": {
      "image/png": "[encoded data removed]",
      "text/plain": [
       "<Figure size 432x288 with 1 Axes>"
      ]
     },
     "metadata": {},
     "output_type": "display_data"
    }
   ],
   "source": [
    "c_all=all_df[(all_df['Embarked']=='C')]\n",
    "ax=all_df.plot.scatter(x='Age',y='Fare',alpha=0.5)\n",
    "c_all=plot.scatter(x='Age',y='Fare',color=\"red\",alpha=0.5,ax=ax)"
   ]
  },
  {
   "cell_type": "code",
   "execution_count": 112,
   "metadata": {
    "colab": {
     "base_uri": "https://localhost:8080/",
     "height": 173
    },
    "executionInfo": {
     "elapsed": 358,
     "status": "ok",
     "timestamp": 1634571951090,
     "user": {
      "displayName": "Nao S",
      "photoUrl": "https://lh3.googleusercontent.com/a/default-user=s64",
      "userId": "18027365817574858301"
     },
     "user_tz": -540
    },
    "id": "mrP5IadFDqS8",
    "outputId": "f865af5f-b596-46e7-8c0a-339e91f59a03"
   },
   "outputs": [
    {
     "data": {
      "text/html": [
       "<div>\n",
       "<style scoped>\n",
       "    .dataframe tbody tr th:only-of-type {\n",
       "        vertical-align: middle;\n",
       "    }\n",
       "\n",
       "    .dataframe tbody tr th {\n",
       "        vertical-align: top;\n",
       "    }\n",
       "\n",
       "    .dataframe thead th {\n",
       "        text-align: right;\n",
       "    }\n",
       "</style>\n",
       "<table border=\"1\" class=\"dataframe\">\n",
       "  <thead>\n",
       "    <tr style=\"text-align: right;\">\n",
       "      <th></th>\n",
       "      <th>Fare</th>\n",
       "    </tr>\n",
       "    <tr>\n",
       "      <th>Embarked</th>\n",
       "      <th></th>\n",
       "    </tr>\n",
       "  </thead>\n",
       "  <tbody>\n",
       "    <tr>\n",
       "      <th>C</th>\n",
       "      <td>10.594057</td>\n",
       "    </tr>\n",
       "    <tr>\n",
       "      <th>Q</th>\n",
       "      <td>7.531944</td>\n",
       "    </tr>\n",
       "    <tr>\n",
       "      <th>S</th>\n",
       "      <td>16.218712</td>\n",
       "    </tr>\n",
       "  </tbody>\n",
       "</table>\n",
       "</div>"
      ],
      "text/plain": [
       "               Fare\n",
       "Embarked           \n",
       "C         10.594057\n",
       "Q          7.531944\n",
       "S         16.218712"
      ]
     },
     "execution_count": 112,
     "metadata": {},
     "output_type": "execute_result"
    }
   ],
   "source": [
    "all_df[(all_df['Age']//10==1)&(all_df['familly_num']==0)][['Embarked','Fare']].groupby('Embarked').mean()"
   ]
  },
  {
   "cell_type": "code",
   "execution_count": null,
   "metadata": {
    "id": "RQnnoLQFFEjU"
   },
   "outputs": [],
   "source": []
  }
 ],
 "metadata": {
  "colab": {
   "collapsed_sections": [],
   "name": "kaggle_titanic.ipynb",
   "provenance": []
  },
  "interpreter": {
   "hash": "aee8b7b246df8f9039afb4144a1f6fd8d2ca17a180786b69acc140d282b71a49"
  },
  "kernelspec": {
   "display_name": "Python 3 (ipykernel)",
   "language": "python",
   "name": "python3"
  },
  "language_info": {
   "codemirror_mode": {
    "name": "ipython",
    "version": 3
   },
   "file_extension": ".py",
   "mimetype": "text/x-python",
   "name": "python",
   "nbconvert_exporter": "python",
   "pygments_lexer": "ipython3",
   "version": "3.9.7"
  }
 },
 "nbformat": 4,
 "nbformat_minor": 4
}
